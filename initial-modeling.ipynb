{
 "cells": [
  {
   "cell_type": "markdown",
   "id": "2ec31e3e-5698-4975-ad37-50096a0ba987",
   "metadata": {},
   "source": [
    "## Initial Model\n",
    "I'm going to try to create a regression model to predict voter turnout based on variables like land ownership, party, age and gender. In our initial EDA we saw that the state of Michigan had a significant different in voter turnout between political parties in the 2016 eleciton so the first model will be just using Michigan data."
   ]
  },
  {
   "cell_type": "markdown",
   "id": "d509a48b-b4a8-4be5-8088-fb76eb190713",
   "metadata": {},
   "source": [
    "### Loaidng the Data"
   ]
  },
  {
   "cell_type": "code",
   "execution_count": 2,
   "id": "9097bc7b-d722-4475-a6cf-3296a497a6d6",
   "metadata": {},
   "outputs": [
    {
     "name": "stderr",
     "output_type": "stream",
     "text": [
      "                                                                                \r"
     ]
    }
   ],
   "source": [
    "gcs_path = 'gs://pstat135-voter-file/VM2Uniform'\n",
    "\n",
    "mi =  spark.read.parquet(gcs_path + \"/\" + \"VM2Uniform--MI--2021-01-30\")\n"
   ]
  },
  {
   "cell_type": "code",
   "execution_count": 3,
   "id": "ebe870bb-cadf-40fc-98a7-6e9844ec65ec",
   "metadata": {},
   "outputs": [],
   "source": [
    "# mi.printSchema()\n"
   ]
  },
  {
   "cell_type": "code",
   "execution_count": 32,
   "id": "d1ee3aab-04cb-4f65-9224-2c477b3dc925",
   "metadata": {},
   "outputs": [],
   "source": [
    "from pyspark.ml.feature import OneHotEncoder, StringIndexer, VectorAssembler\n",
    "from pyspark.ml.classification import LogisticRegression\n",
    "from pyspark.sql.functions import *\n",
    "from pyspark.sql.types import IntegerType\n",
    "from pyspark.ml.evaluation import BinaryClassificationEvaluator\n",
    "import pandas as pd"
   ]
  },
  {
   "cell_type": "code",
   "execution_count": 5,
   "id": "c1cc20d5-ca63-4f78-a63a-9a6a2d2a718d",
   "metadata": {},
   "outputs": [],
   "source": [
    "mod_df = mi.select(\"Residence_Addresses_Property_LandSq_Footage\",\n",
    "        \"Parties_Description\",\n",
    "        \"Voters_Age\",\n",
    "        \"CommercialData_Education\",\n",
    "        \"CommercialData_EstimatedHHIncomeAmount\",\n",
    "        \"Voters_Age\",\n",
    "        \"General_2020\")"
   ]
  },
  {
   "cell_type": "code",
   "execution_count": 6,
   "id": "5bcb4530-9198-4b24-847f-b355088e91f4",
   "metadata": {},
   "outputs": [
    {
     "name": "stderr",
     "output_type": "stream",
     "text": [
      "                                                                                \r"
     ]
    }
   ],
   "source": [
    "total = mod_df.count()"
   ]
  },
  {
   "cell_type": "code",
   "execution_count": 7,
   "id": "744c5cbd-1839-499e-9b92-6d8631188922",
   "metadata": {},
   "outputs": [],
   "source": [
    "from pyspark.sql.functions import col,isnan, when, count\n",
    "missing_df = mod_df.select([count(when(isnan(c) | col(c).isNull(), c)).alias(c) for c in mod_df.columns]\n",
    "   )\n",
    "\n"
   ]
  },
  {
   "cell_type": "code",
   "execution_count": 8,
   "id": "ebf2ec80-8227-4514-bbf4-87a509fadeeb",
   "metadata": {},
   "outputs": [
    {
     "name": "stderr",
     "output_type": "stream",
     "text": [
      "                                                                                \r"
     ]
    },
    {
     "data": {
      "text/html": [
       "<div>\n",
       "<style scoped>\n",
       "    .dataframe tbody tr th:only-of-type {\n",
       "        vertical-align: middle;\n",
       "    }\n",
       "\n",
       "    .dataframe tbody tr th {\n",
       "        vertical-align: top;\n",
       "    }\n",
       "\n",
       "    .dataframe thead th {\n",
       "        text-align: right;\n",
       "    }\n",
       "</style>\n",
       "<table border=\"1\" class=\"dataframe\">\n",
       "  <thead>\n",
       "    <tr style=\"text-align: right;\">\n",
       "      <th></th>\n",
       "      <th>Total Missing</th>\n",
       "      <th>Percent Missing</th>\n",
       "    </tr>\n",
       "  </thead>\n",
       "  <tbody>\n",
       "    <tr>\n",
       "      <th>Residence_Addresses_Property_LandSq_Footage</th>\n",
       "      <td>1604310</td>\n",
       "      <td>0.211270</td>\n",
       "    </tr>\n",
       "    <tr>\n",
       "      <th>Parties_Description</th>\n",
       "      <td>0</td>\n",
       "      <td>0.000000</td>\n",
       "    </tr>\n",
       "    <tr>\n",
       "      <th>Voters_Age</th>\n",
       "      <td>12456</td>\n",
       "      <td>0.001640</td>\n",
       "    </tr>\n",
       "    <tr>\n",
       "      <th>CommercialData_Education</th>\n",
       "      <td>3089297</td>\n",
       "      <td>0.406826</td>\n",
       "    </tr>\n",
       "    <tr>\n",
       "      <th>CommercialData_EstimatedHHIncomeAmount</th>\n",
       "      <td>150772</td>\n",
       "      <td>0.019855</td>\n",
       "    </tr>\n",
       "    <tr>\n",
       "      <th>Voters_Age</th>\n",
       "      <td>12456</td>\n",
       "      <td>0.001640</td>\n",
       "    </tr>\n",
       "    <tr>\n",
       "      <th>General_2020</th>\n",
       "      <td>2197299</td>\n",
       "      <td>0.289360</td>\n",
       "    </tr>\n",
       "  </tbody>\n",
       "</table>\n",
       "</div>"
      ],
      "text/plain": [
       "                                             Total Missing  Percent Missing\n",
       "Residence_Addresses_Property_LandSq_Footage        1604310         0.211270\n",
       "Parties_Description                                      0         0.000000\n",
       "Voters_Age                                           12456         0.001640\n",
       "CommercialData_Education                           3089297         0.406826\n",
       "CommercialData_EstimatedHHIncomeAmount              150772         0.019855\n",
       "Voters_Age                                           12456         0.001640\n",
       "General_2020                                       2197299         0.289360"
      ]
     },
     "execution_count": 8,
     "metadata": {},
     "output_type": "execute_result"
    }
   ],
   "source": [
    "missing_df_pd = missing_df.toPandas().transpose()\n",
    "missing_df_pd[\"PercentMissing\"] = missing_df_pd[0] / total\n",
    "missing_df_pd.columns = [\"Total Missing\", \"Percent Missing\"]\n",
    "missing_df_pd"
   ]
  },
  {
   "cell_type": "code",
   "execution_count": 9,
   "id": "24494b81-cd77-41e1-ab51-5d3635b3e977",
   "metadata": {},
   "outputs": [
    {
     "name": "stdout",
     "output_type": "stream",
     "text": [
      "+-------------------------------------------+-------------------+------------------------+-----+---+------+\n",
      "|Residence_Addresses_Property_LandSq_Footage|Parties_Description|CommercialData_Education|label|Age|Income|\n",
      "+-------------------------------------------+-------------------+------------------------+-----+---+------+\n",
      "|                                      26000|         Democratic|    HS Diploma - Extr...|    1| 58|109000|\n",
      "|                                      17000|         Republican|    Some College - Li...|    1| 29| 65000|\n",
      "|                                      17000|         Republican|    Some College - Li...|    1| 57| 65000|\n",
      "|                                      17000|         Republican|    Some College - Li...|    1| 56| 65000|\n",
      "|                                      36000|         Republican|    Bach Degree - Likely|    1| 62| 71000|\n",
      "+-------------------------------------------+-------------------+------------------------+-----+---+------+\n",
      "only showing top 5 rows\n",
      "\n"
     ]
    },
    {
     "name": "stderr",
     "output_type": "stream",
     "text": [
      "                                                                                \r"
     ]
    },
    {
     "data": {
      "text/plain": [
       "7593651"
      ]
     },
     "execution_count": 9,
     "metadata": {},
     "output_type": "execute_result"
    }
   ],
   "source": [
    "mod_df = mod_df.withColumn(\"label\", when(mod_df.General_2020 == \"Y\", 1)\n",
    "                                            .otherwise(0))\n",
    "mod_df = mod_df.drop(\"General_2020\")\n",
    "mod_df = mod_df.withColumn(\"Residence_Addresses_Property_LandSq_Footage\",\n",
    "                           mod_df[\"Residence_Addresses_Property_LandSq_Footage\"].cast(IntegerType()))\n",
    "\n",
    "mod_df = mod_df.withColumn(\"Age\",\n",
    "                           mod_df[\"Voters_Age\"].cast(IntegerType()))\n",
    "mod_df = mod_df.drop(\"Voters_Age\")\n",
    "\n",
    "mod_df = mod_df.withColumn(\"Income\", regexp_replace(\"CommercialData_EstimatedHHIncomeAmount\", \"\\$\", \"\").cast(IntegerType()))\n",
    "mod_df = mod_df.drop(\"CommercialData_EstimatedHHIncomeAmount\")\n",
    "\n",
    "mod_df.show(5)\n",
    "mod_df.count()"
   ]
  },
  {
   "cell_type": "code",
   "execution_count": 10,
   "id": "958d43bc-bec0-4811-bb4e-71e06a3084fe",
   "metadata": {},
   "outputs": [
    {
     "name": "stderr",
     "output_type": "stream",
     "text": [
      "                                                                                \r"
     ]
    },
    {
     "data": {
      "text/plain": [
       "3816666"
      ]
     },
     "execution_count": 10,
     "metadata": {},
     "output_type": "execute_result"
    }
   ],
   "source": [
    "mod_df = mod_df.dropna()\n",
    "mod_df.count()"
   ]
  },
  {
   "cell_type": "markdown",
   "id": "16e29419-5da8-461c-9be9-ac244c291808",
   "metadata": {},
   "source": [
    "### Preparing data for Model\n",
    "Now I need to one hot encode the `Parties_Description` and `CommercialData_Education` columns and create a column with all the features."
   ]
  },
  {
   "cell_type": "code",
   "execution_count": 11,
   "id": "1008a7f6-0631-4684-8deb-39c30cdcaf7e",
   "metadata": {},
   "outputs": [
    {
     "name": "stderr",
     "output_type": "stream",
     "text": [
      "                                                                                \r"
     ]
    }
   ],
   "source": [
    "# Create an indexer\n",
    "indexer = StringIndexer(inputCol=\"Parties_Description\", outputCol='Parties_Description_idx')\n",
    "edu_indexer = StringIndexer(inputCol=\"CommercialData_Education\", outputCol='CommercialData_Education_idx')\n",
    "\n",
    "# Indexer identifies categories in the data\n",
    "indexer_model = indexer.fit(mod_df)\n",
    "edu_indexer_model = edu_indexer.fit(mod_df)\n",
    "\n",
    "# Indexer creates a new column with numeric index values\n",
    "df_indexed = indexer_model.transform(mod_df)\n",
    "df_indexed = edu_indexer_model.transform(df_indexed)\n",
    "onehot = OneHotEncoder(inputCols=[\"Parties_Description_idx\", \"CommercialData_Education_idx\"],\n",
    "                       outputCols=[\"party_encoded\", \"education_encoded\"])\n",
    "onehot = onehot.fit(df_indexed)\n",
    "\n",
    "### CommercialData_Education ###\n",
    "\n",
    "df_onehot = onehot.transform(df_indexed)"
   ]
  },
  {
   "cell_type": "code",
   "execution_count": 36,
   "id": "81d80093-265a-4d04-bfd8-80e2a3432a7a",
   "metadata": {},
   "outputs": [
    {
     "name": "stderr",
     "output_type": "stream",
     "text": [
      "                                                                                \r"
     ]
    },
    {
     "name": "stdout",
     "output_type": "stream",
     "text": [
      "+------------------------+----------------------------+-----------------+\n",
      "|CommercialData_Education|CommercialData_Education_idx|education_encoded|\n",
      "+------------------------+----------------------------+-----------------+\n",
      "|    HS Diploma - Extr...|                         0.0|   (10,[0],[1.0])|\n",
      "|    Some College - Li...|                         1.0|   (10,[1],[1.0])|\n",
      "|    Some College - Li...|                         1.0|   (10,[1],[1.0])|\n",
      "|    Some College - Li...|                         1.0|   (10,[1],[1.0])|\n",
      "|    Bach Degree - Likely|                         4.0|   (10,[4],[1.0])|\n",
      "|     HS Diploma - Likely|                         3.0|   (10,[3],[1.0])|\n",
      "|    HS Diploma - Extr...|                         0.0|   (10,[0],[1.0])|\n",
      "|    Some College - Li...|                         1.0|   (10,[1],[1.0])|\n",
      "|    Bach Degree - Ext...|                         2.0|   (10,[2],[1.0])|\n",
      "|    Some College - Li...|                         1.0|   (10,[1],[1.0])|\n",
      "+------------------------+----------------------------+-----------------+\n",
      "only showing top 10 rows\n",
      "\n"
     ]
    }
   ],
   "source": [
    "df_onehot.select(\"CommercialData_Education\", \"CommercialData_Education_idx\", \"education_encoded\").show(10)"
   ]
  },
  {
   "cell_type": "code",
   "execution_count": 56,
   "id": "d44add0a-530e-4e07-9db4-69da153a2c48",
   "metadata": {},
   "outputs": [
    {
     "name": "stderr",
     "output_type": "stream",
     "text": [
      "[Stage 217:==============================================>        (11 + 2) / 13]\r"
     ]
    },
    {
     "name": "stdout",
     "output_type": "stream",
     "text": [
      "+----------------------------+------------------------+------+\n",
      "|CommercialData_Education_idx|CommercialData_Education| count|\n",
      "+----------------------------+------------------------+------+\n",
      "|                         0.0|    HS Diploma - Extr...|781282|\n",
      "|                         1.0|    Some College - Li...|696285|\n",
      "|                         2.0|    Bach Degree - Ext...|694970|\n",
      "|                         3.0|     HS Diploma - Likely|355231|\n",
      "|                         4.0|    Bach Degree - Likely|322629|\n",
      "|                         5.0|    Grad Degree - Ext...|321905|\n",
      "|                         6.0|    Grad Degree - Likely|248123|\n",
      "|                         7.0|    Some College -Ext...|245145|\n",
      "|                         8.0|    Less than HS Dipl...|142493|\n",
      "|                         9.0|    Vocational Techni...|  7108|\n",
      "|                        10.0|    Less than HS Dipl...|  1495|\n",
      "+----------------------------+------------------------+------+\n",
      "\n"
     ]
    },
    {
     "name": "stderr",
     "output_type": "stream",
     "text": [
      "                                                                                \r"
     ]
    }
   ],
   "source": [
    "edu_codes = df_onehot.groupBy(\"CommercialData_Education_idx\", \"CommercialData_Education\").count().sort(\"CommercialData_Education_idx\")\n",
    "\n",
    "edu_codes.show()"
   ]
  },
  {
   "cell_type": "code",
   "execution_count": 61,
   "id": "5beb15a1-fc73-4617-acbe-6198fb3aea48",
   "metadata": {},
   "outputs": [
    {
     "data": {
      "text/plain": [
       "Column<'CommercialData_Education'>"
      ]
     },
     "execution_count": 61,
     "metadata": {},
     "output_type": "execute_result"
    }
   ],
   "source": [
    "edu_codes.select(\"CommercialData_Education\")[]"
   ]
  },
  {
   "cell_type": "code",
   "execution_count": 37,
   "id": "b9c38e8d-6360-4fc0-95a3-a66c8d362791",
   "metadata": {},
   "outputs": [
    {
     "name": "stdout",
     "output_type": "stream",
     "text": [
      "+-------------------+-----------------------+-------------+\n",
      "|Parties_Description|Parties_Description_idx|party_encoded|\n",
      "+-------------------+-----------------------+-------------+\n",
      "|         Democratic|                    0.0|(2,[0],[1.0])|\n",
      "|         Republican|                    1.0|(2,[1],[1.0])|\n",
      "|         Republican|                    1.0|(2,[1],[1.0])|\n",
      "|         Republican|                    1.0|(2,[1],[1.0])|\n",
      "|         Republican|                    1.0|(2,[1],[1.0])|\n",
      "|         Republican|                    1.0|(2,[1],[1.0])|\n",
      "|         Republican|                    1.0|(2,[1],[1.0])|\n",
      "|         Democratic|                    0.0|(2,[0],[1.0])|\n",
      "|         Democratic|                    0.0|(2,[0],[1.0])|\n",
      "|       Non-Partisan|                    2.0|    (2,[],[])|\n",
      "+-------------------+-----------------------+-------------+\n",
      "only showing top 10 rows\n",
      "\n"
     ]
    }
   ],
   "source": [
    "df_onehot.select(\"Parties_Description\", \"Parties_Description_idx\", \"party_encoded\").show(10)"
   ]
  },
  {
   "cell_type": "code",
   "execution_count": 53,
   "id": "d0a8f696-0b14-45d5-a451-4a30ce8014c9",
   "metadata": {},
   "outputs": [
    {
     "name": "stdout",
     "output_type": "stream",
     "text": [
      "+------------------------------------------------+-----+\n",
      "|features                                        |label|\n",
      "+------------------------------------------------+-----+\n",
      "|(15,[0,1,2,3,5],[26000.0,58.0,109000.0,1.0,1.0])|1    |\n",
      "|(15,[0,1,2,4,6],[17000.0,29.0,65000.0,1.0,1.0]) |1    |\n",
      "|(15,[0,1,2,4,6],[17000.0,57.0,65000.0,1.0,1.0]) |1    |\n",
      "|(15,[0,1,2,4,6],[17000.0,56.0,65000.0,1.0,1.0]) |1    |\n",
      "|(15,[0,1,2,4,9],[36000.0,62.0,71000.0,1.0,1.0]) |1    |\n",
      "+------------------------------------------------+-----+\n",
      "only showing top 5 rows\n",
      "\n"
     ]
    }
   ],
   "source": [
    "# Create an assembler object\n",
    "assembler = VectorAssembler(inputCols=[\n",
    "    \"Residence_Addresses_Property_LandSq_Footage\",\n",
    "    \"Age\",\n",
    "    \"Income\",\n",
    "    \"party_encoded\",\n",
    "    \"education_encoded\"\n",
    "], outputCol='features')\n",
    "\n",
    "# Consolidate predictor columns\n",
    "df_assembled = assembler.transform(df_onehot)\n",
    "\n",
    "# Check the resulting column\n",
    "df_assembled.select('features', 'label').show(5, truncate=False)"
   ]
  },
  {
   "cell_type": "markdown",
   "id": "32841a33-b4cd-4322-b91d-b2b9269826ba",
   "metadata": {},
   "source": [
    "#### Train Test Split"
   ]
  },
  {
   "cell_type": "code",
   "execution_count": 54,
   "id": "7a0b438a-eee0-4278-861c-c0635616cc7e",
   "metadata": {},
   "outputs": [],
   "source": [
    "df_train, df_test = df_assembled.randomSplit([0.8, 0.2], seed=43)"
   ]
  },
  {
   "cell_type": "markdown",
   "id": "34a78fe0-eeb7-4fe1-ae5f-9a1750a69eaa",
   "metadata": {},
   "source": [
    "### Logistic Regression Model"
   ]
  },
  {
   "cell_type": "code",
   "execution_count": 66,
   "id": "c4ff3a08-ee1f-4445-9da4-5e96aa682357",
   "metadata": {},
   "outputs": [
    {
     "name": "stderr",
     "output_type": "stream",
     "text": [
      "                                                                                \r"
     ]
    }
   ],
   "source": [
    "logistic = LogisticRegression().fit(df_train)"
   ]
  },
  {
   "cell_type": "code",
   "execution_count": 67,
   "id": "8db6d6d9-10cd-4cd6-86e5-287d122f4f68",
   "metadata": {},
   "outputs": [
    {
     "name": "stderr",
     "output_type": "stream",
     "text": [
      "[Stage 365:==============================================>        (11 + 2) / 13]\r"
     ]
    },
    {
     "name": "stdout",
     "output_type": "stream",
     "text": [
      "+-----+----------+------+\n",
      "|label|prediction| count|\n",
      "+-----+----------+------+\n",
      "|    1|       0.0|  3156|\n",
      "|    0|       0.0|  2368|\n",
      "|    1|       1.0|627049|\n",
      "|    0|       1.0|130000|\n",
      "+-----+----------+------+\n",
      "\n"
     ]
    },
    {
     "name": "stderr",
     "output_type": "stream",
     "text": [
      "                                                                                \r"
     ]
    }
   ],
   "source": [
    "prediction = logistic.transform(df_test)\n",
    "prediction.groupBy(\"label\", \"prediction\").count().show()"
   ]
  },
  {
   "cell_type": "code",
   "execution_count": 68,
   "id": "4a0fdb96-e621-4ad8-b496-46dac1eeeb1d",
   "metadata": {},
   "outputs": [
    {
     "data": {
      "text/plain": [
       "<pyspark.ml.classification.BinaryLogisticRegressionTrainingSummary at 0x7f17266861c0>"
      ]
     },
     "execution_count": 68,
     "metadata": {},
     "output_type": "execute_result"
    }
   ],
   "source": [
    "summary = logistic.summary\n",
    "summary"
   ]
  },
  {
   "cell_type": "code",
   "execution_count": 46,
   "id": "e04b8131-f749-42c1-b4dd-bfcb39916271",
   "metadata": {},
   "outputs": [
    {
     "name": "stderr",
     "output_type": "stream",
     "text": [
      "                                                                                \r"
     ]
    },
    {
     "data": {
      "text/plain": [
       "0.5002808361032538"
      ]
     },
     "execution_count": 46,
     "metadata": {},
     "output_type": "execute_result"
    }
   ],
   "source": [
    "evaluator = BinaryClassificationEvaluator(labelCol=\"label\", rawPredictionCol=\"prediction\", metricName='areaUnderROC')\n",
    "\n",
    "evaluator.evaluate(prediction)"
   ]
  },
  {
   "cell_type": "code",
   "execution_count": 47,
   "id": "ba3a5004-44d9-4718-a288-8ddc857b5376",
   "metadata": {},
   "outputs": [
    {
     "data": {
      "text/plain": [
       "'labelCol: label column name. (default: label, current: label)\\nmetricName: metric name in evaluation (areaUnderROC|areaUnderPR) (default: areaUnderROC, current: areaUnderROC)\\nnumBins: Number of bins to down-sample the curves (ROC curve, PR curve) in area computation. If 0, no down-sampling will occur. Must be >= 0. (default: 1000)\\nrawPredictionCol: raw prediction (a.k.a. confidence) column name. (default: rawPrediction, current: prediction)\\nweightCol: weight column name. If this is not set or empty, we treat all instance weights as 1.0. (undefined)'"
      ]
     },
     "execution_count": 47,
     "metadata": {},
     "output_type": "execute_result"
    }
   ],
   "source": [
    "evaluator.explainParams()"
   ]
  },
  {
   "cell_type": "code",
   "execution_count": 48,
   "id": "e5c9c9a9-cad0-43c8-8f69-2e660652d300",
   "metadata": {},
   "outputs": [
    {
     "ename": "KeyError",
     "evalue": "Param(parent='BinaryClassificationEvaluator_383c69442ded', name='weightCol', doc='weight column name. If this is not set or empty, we treat all instance weights as 1.0.')",
     "output_type": "error",
     "traceback": [
      "\u001b[0;31m---------------------------------------------------------------------------\u001b[0m",
      "\u001b[0;31mKeyError\u001b[0m                                  Traceback (most recent call last)",
      "Cell \u001b[0;32mIn[48], line 1\u001b[0m\n\u001b[0;32m----> 1\u001b[0m \u001b[43mevaluator\u001b[49m\u001b[38;5;241;43m.\u001b[39;49m\u001b[43mgetWeightCol\u001b[49m\u001b[43m(\u001b[49m\u001b[43m)\u001b[49m\n",
      "File \u001b[0;32m/usr/lib/spark/python/pyspark/ml/param/shared.py:441\u001b[0m, in \u001b[0;36mHasWeightCol.getWeightCol\u001b[0;34m(self)\u001b[0m\n\u001b[1;32m    437\u001b[0m \u001b[38;5;28;01mdef\u001b[39;00m \u001b[38;5;21mgetWeightCol\u001b[39m(\u001b[38;5;28mself\u001b[39m):\n\u001b[1;32m    438\u001b[0m \u001b[38;5;250m    \u001b[39m\u001b[38;5;124;03m\"\"\"\u001b[39;00m\n\u001b[1;32m    439\u001b[0m \u001b[38;5;124;03m    Gets the value of weightCol or its default value.\u001b[39;00m\n\u001b[1;32m    440\u001b[0m \u001b[38;5;124;03m    \"\"\"\u001b[39;00m\n\u001b[0;32m--> 441\u001b[0m     \u001b[38;5;28;01mreturn\u001b[39;00m \u001b[38;5;28;43mself\u001b[39;49m\u001b[38;5;241;43m.\u001b[39;49m\u001b[43mgetOrDefault\u001b[49m\u001b[43m(\u001b[49m\u001b[38;5;28;43mself\u001b[39;49m\u001b[38;5;241;43m.\u001b[39;49m\u001b[43mweightCol\u001b[49m\u001b[43m)\u001b[49m\n",
      "File \u001b[0;32m/usr/lib/spark/python/pyspark/ml/param/__init__.py:346\u001b[0m, in \u001b[0;36mParams.getOrDefault\u001b[0;34m(self, param)\u001b[0m\n\u001b[1;32m    344\u001b[0m     \u001b[38;5;28;01mreturn\u001b[39;00m \u001b[38;5;28mself\u001b[39m\u001b[38;5;241m.\u001b[39m_paramMap[param]\n\u001b[1;32m    345\u001b[0m \u001b[38;5;28;01melse\u001b[39;00m:\n\u001b[0;32m--> 346\u001b[0m     \u001b[38;5;28;01mreturn\u001b[39;00m \u001b[38;5;28;43mself\u001b[39;49m\u001b[38;5;241;43m.\u001b[39;49m\u001b[43m_defaultParamMap\u001b[49m\u001b[43m[\u001b[49m\u001b[43mparam\u001b[49m\u001b[43m]\u001b[49m\n",
      "\u001b[0;31mKeyError\u001b[0m: Param(parent='BinaryClassificationEvaluator_383c69442ded', name='weightCol', doc='weight column name. If this is not set or empty, we treat all instance weights as 1.0.')"
     ]
    }
   ],
   "source": [
    "evaluator.getWeightCol()"
   ]
  },
  {
   "cell_type": "code",
   "execution_count": null,
   "id": "077cedcf-ce7a-476f-a74f-3f965a991c13",
   "metadata": {},
   "outputs": [],
   "source": [
    "pd.DataFrame({'coefficients':logistic.coefficients, 'feature':list(pd.DataFrame(df_train.schema[\"features\"].metadata[\"ml_attr\"][\"attrs\"]['numeric']).sort_values('idx')['name'])})\n",
    "\n",
    "\n"
   ]
  },
  {
   "cell_type": "code",
   "execution_count": 49,
   "id": "1f2e60bb-b9f6-4762-aff2-4177df1bb954",
   "metadata": {},
   "outputs": [],
   "source": [
    "def ExtractFeatureCoeficient(model, dataset, excludedCols = None):\n",
    "    test = model.transform(dataset)\n",
    "    weights = model.coefficients\n",
    "    print('This is model weights: \\n', weights)\n",
    "    weights = [(float(w),) for w in weights]  # convert numpy type to float, and to tuple\n",
    "    if excludedCols == None:\n",
    "        feature_col = [f for f in test.schema.names if f not in ['y', 'classWeights', 'features', 'label', 'rawPrediction', 'probability', 'prediction']]\n",
    "    else:\n",
    "        feature_col = [f for f in test.schema.names if f not in excludedCols]\n",
    "    if len(weights) == len(feature_col):\n",
    "        weightsDF = sqlContext.createDataFrame(zip(weights, feature_col), schema= [\"Coeficients\", \"FeatureName\"])\n",
    "    else:\n",
    "        print('Coeficients are not matching with remaining Fetures in the model, please check field lists with model.transform(dataset).schema.names')\n",
    "    \n",
    "    return weightsDF"
   ]
  },
  {
   "cell_type": "code",
   "execution_count": 50,
   "id": "cf0aabf3-f9f7-41d3-a56c-c25612529937",
   "metadata": {},
   "outputs": [
    {
     "name": "stdout",
     "output_type": "stream",
     "text": [
      "This is model weights: \n",
      " [1.089365254494632e-09,0.029973694111211854,8.297718297099569e-06]\n",
      "Coeficients are not matching with remaining Fetures in the model, please check field lists with model.transform(dataset).schema.names\n"
     ]
    },
    {
     "ename": "UnboundLocalError",
     "evalue": "local variable 'weightsDF' referenced before assignment",
     "output_type": "error",
     "traceback": [
      "\u001b[0;31m---------------------------------------------------------------------------\u001b[0m",
      "\u001b[0;31mUnboundLocalError\u001b[0m                         Traceback (most recent call last)",
      "Cell \u001b[0;32mIn[50], line 1\u001b[0m\n\u001b[0;32m----> 1\u001b[0m results \u001b[38;5;241m=\u001b[39m \u001b[43mExtractFeatureCoeficient\u001b[49m\u001b[43m(\u001b[49m\u001b[43mlogistic\u001b[49m\u001b[43m,\u001b[49m\u001b[43m \u001b[49m\u001b[43mdf_train\u001b[49m\u001b[43m)\u001b[49m\n",
      "Cell \u001b[0;32mIn[49], line 15\u001b[0m, in \u001b[0;36mExtractFeatureCoeficient\u001b[0;34m(model, dataset, excludedCols)\u001b[0m\n\u001b[1;32m     12\u001b[0m \u001b[38;5;28;01melse\u001b[39;00m:\n\u001b[1;32m     13\u001b[0m     \u001b[38;5;28mprint\u001b[39m(\u001b[38;5;124m'\u001b[39m\u001b[38;5;124mCoeficients are not matching with remaining Fetures in the model, please check field lists with model.transform(dataset).schema.names\u001b[39m\u001b[38;5;124m'\u001b[39m)\n\u001b[0;32m---> 15\u001b[0m \u001b[38;5;28;01mreturn\u001b[39;00m \u001b[43mweightsDF\u001b[49m\n",
      "\u001b[0;31mUnboundLocalError\u001b[0m: local variable 'weightsDF' referenced before assignment"
     ]
    }
   ],
   "source": [
    "results = ExtractFeatureCoeficient(logistic, df_train)"
   ]
  },
  {
   "cell_type": "code",
   "execution_count": 52,
   "id": "7e118601-e1e7-4e27-9c2c-09a6396c3e82",
   "metadata": {},
   "outputs": [
    {
     "data": {
      "text/plain": [
       "['Residence_Addresses_Property_LandSq_Footage',\n",
       " 'Parties_Description',\n",
       " 'CommercialData_Education',\n",
       " 'label',\n",
       " 'Age',\n",
       " 'Income',\n",
       " 'Parties_Description_idx',\n",
       " 'CommercialData_Education_idx',\n",
       " 'party_encoded',\n",
       " 'education_encoded',\n",
       " 'features',\n",
       " 'rawPrediction',\n",
       " 'probability',\n",
       " 'prediction']"
      ]
     },
     "execution_count": 52,
     "metadata": {},
     "output_type": "execute_result"
    }
   ],
   "source": [
    "logistic.transform(df_train).schema.names"
   ]
  },
  {
   "cell_type": "code",
   "execution_count": 63,
   "id": "480c06de-c28e-46e4-9e86-c71ea9e31b1c",
   "metadata": {},
   "outputs": [
    {
     "name": "stderr",
     "output_type": "stream",
     "text": [
      "                                                                                \r"
     ]
    }
   ],
   "source": [
    "edu_code0 = edu_codes.filter(edu_codes.CommercialData_Education_idx == 0).head()[1]\n",
    "edu_code1 = edu_codes.filter(edu_codes.CommercialData_Education_idx == 1).head()[1]\n",
    "edu_code2 = edu_codes.filter(edu_codes.CommercialData_Education_idx == 2).head()[1]\n",
    "edu_code3 = edu_codes.filter(edu_codes.CommercialData_Education_idx == 3).head()[1]\n",
    "edu_code4 = edu_codes.filter(edu_codes.CommercialData_Education_idx == 4).head()[1]\n",
    "edu_code5 = edu_codes.filter(edu_codes.CommercialData_Education_idx == 5).head()[1]\n",
    "edu_code6 = edu_codes.filter(edu_codes.CommercialData_Education_idx == 6).head()[1]\n",
    "edu_code7 = edu_codes.filter(edu_codes.CommercialData_Education_idx == 7).head()[1]\n",
    "edu_code8 = edu_codes.filter(edu_codes.CommercialData_Education_idx == 8).head()[1]\n",
    "edu_code9 = edu_codes.filter(edu_codes.CommercialData_Education_idx == 9).head()[1]\n",
    "edu_code10 = edu_codes.filter(edu_codes.CommercialData_Education_idx == 10).head()[1]"
   ]
  },
  {
   "cell_type": "code",
   "execution_count": 69,
   "id": "19c85880-10b1-45df-bf1a-cd7e3e54bc6e",
   "metadata": {},
   "outputs": [],
   "source": [
    "coef_order = [\"Residence_Addresses_Property_LandSq_Footage\",\n",
    "             \"Age\",\n",
    "             \"Income\",\n",
    "             \"Republican\",\n",
    "             \"Non-partisan\",\n",
    "              edu_code1,\n",
    "              edu_code2,\n",
    "              edu_code3,\n",
    "              edu_code4,\n",
    "              edu_code5,\n",
    "              edu_code6,\n",
    "              edu_code7,\n",
    "              edu_code8,\n",
    "              edu_code9,\n",
    "              edu_code10\n",
    "             ]\n",
    "\n",
    "coef_df = pd.DataFrame(list(zip(coef_order, logistic.coefficients)),\n",
    "                      columns =['val', 'coef'])"
   ]
  },
  {
   "cell_type": "code",
   "execution_count": 70,
   "id": "65403f4f-992d-4fd8-b5da-761903b76643",
   "metadata": {},
   "outputs": [
    {
     "data": {
      "text/html": [
       "<div>\n",
       "<style scoped>\n",
       "    .dataframe tbody tr th:only-of-type {\n",
       "        vertical-align: middle;\n",
       "    }\n",
       "\n",
       "    .dataframe tbody tr th {\n",
       "        vertical-align: top;\n",
       "    }\n",
       "\n",
       "    .dataframe thead th {\n",
       "        text-align: right;\n",
       "    }\n",
       "</style>\n",
       "<table border=\"1\" class=\"dataframe\">\n",
       "  <thead>\n",
       "    <tr style=\"text-align: right;\">\n",
       "      <th></th>\n",
       "      <th>val</th>\n",
       "      <th>coef</th>\n",
       "    </tr>\n",
       "  </thead>\n",
       "  <tbody>\n",
       "    <tr>\n",
       "      <th>0</th>\n",
       "      <td>Residence_Addresses_Property_LandSq_Footage</td>\n",
       "      <td>-2.477099e-09</td>\n",
       "    </tr>\n",
       "    <tr>\n",
       "      <th>1</th>\n",
       "      <td>Age</td>\n",
       "      <td>2.479320e-02</td>\n",
       "    </tr>\n",
       "    <tr>\n",
       "      <th>2</th>\n",
       "      <td>Income</td>\n",
       "      <td>7.688554e-06</td>\n",
       "    </tr>\n",
       "    <tr>\n",
       "      <th>3</th>\n",
       "      <td>Republican</td>\n",
       "      <td>8.001599e-01</td>\n",
       "    </tr>\n",
       "    <tr>\n",
       "      <th>4</th>\n",
       "      <td>Non-partisan</td>\n",
       "      <td>1.091068e+00</td>\n",
       "    </tr>\n",
       "    <tr>\n",
       "      <th>5</th>\n",
       "      <td>Some College - Likely</td>\n",
       "      <td>6.780110e-01</td>\n",
       "    </tr>\n",
       "    <tr>\n",
       "      <th>6</th>\n",
       "      <td>Bach Degree - Extremely Likely</td>\n",
       "      <td>8.776986e-01</td>\n",
       "    </tr>\n",
       "    <tr>\n",
       "      <th>7</th>\n",
       "      <td>HS Diploma - Likely</td>\n",
       "      <td>1.086990e+00</td>\n",
       "    </tr>\n",
       "    <tr>\n",
       "      <th>8</th>\n",
       "      <td>Bach Degree - Likely</td>\n",
       "      <td>6.645319e-01</td>\n",
       "    </tr>\n",
       "    <tr>\n",
       "      <th>9</th>\n",
       "      <td>Grad Degree - Extremely Likely</td>\n",
       "      <td>1.036221e+00</td>\n",
       "    </tr>\n",
       "    <tr>\n",
       "      <th>10</th>\n",
       "      <td>Grad Degree - Likely</td>\n",
       "      <td>1.435479e+00</td>\n",
       "    </tr>\n",
       "    <tr>\n",
       "      <th>11</th>\n",
       "      <td>Some College -Extremely Likely</td>\n",
       "      <td>1.086347e+00</td>\n",
       "    </tr>\n",
       "    <tr>\n",
       "      <th>12</th>\n",
       "      <td>Less than HS Diploma - Likely</td>\n",
       "      <td>1.217691e+00</td>\n",
       "    </tr>\n",
       "    <tr>\n",
       "      <th>13</th>\n",
       "      <td>Vocational Technical Degree - Extremely Likely</td>\n",
       "      <td>5.422595e-01</td>\n",
       "    </tr>\n",
       "    <tr>\n",
       "      <th>14</th>\n",
       "      <td>Less than HS Diploma - Ex Like</td>\n",
       "      <td>8.569930e-01</td>\n",
       "    </tr>\n",
       "  </tbody>\n",
       "</table>\n",
       "</div>"
      ],
      "text/plain": [
       "                                               val          coef\n",
       "0      Residence_Addresses_Property_LandSq_Footage -2.477099e-09\n",
       "1                                              Age  2.479320e-02\n",
       "2                                           Income  7.688554e-06\n",
       "3                                       Republican  8.001599e-01\n",
       "4                                     Non-partisan  1.091068e+00\n",
       "5                            Some College - Likely  6.780110e-01\n",
       "6                   Bach Degree - Extremely Likely  8.776986e-01\n",
       "7                              HS Diploma - Likely  1.086990e+00\n",
       "8                             Bach Degree - Likely  6.645319e-01\n",
       "9                   Grad Degree - Extremely Likely  1.036221e+00\n",
       "10                            Grad Degree - Likely  1.435479e+00\n",
       "11                  Some College -Extremely Likely  1.086347e+00\n",
       "12                   Less than HS Diploma - Likely  1.217691e+00\n",
       "13  Vocational Technical Degree - Extremely Likely  5.422595e-01\n",
       "14                  Less than HS Diploma - Ex Like  8.569930e-01"
      ]
     },
     "execution_count": 70,
     "metadata": {},
     "output_type": "execute_result"
    }
   ],
   "source": [
    "coef_df"
   ]
  },
  {
   "cell_type": "code",
   "execution_count": null,
   "id": "70819847-9bd7-42b6-9433-fe9c89e45699",
   "metadata": {},
   "outputs": [],
   "source": []
  }
 ],
 "metadata": {
  "kernelspec": {
   "display_name": "PySpark",
   "language": "python",
   "name": "pyspark"
  },
  "language_info": {
   "codemirror_mode": {
    "name": "ipython",
    "version": 3
   },
   "file_extension": ".py",
   "mimetype": "text/x-python",
   "name": "python",
   "nbconvert_exporter": "python",
   "pygments_lexer": "ipython3",
   "version": "3.8.15"
  }
 },
 "nbformat": 4,
 "nbformat_minor": 5
}