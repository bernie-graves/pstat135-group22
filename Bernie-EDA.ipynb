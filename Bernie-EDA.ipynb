{
 "cells": [
  {
   "cell_type": "code",
   "execution_count": 1,
   "id": "07881be6-f6f0-42ec-b285-89ad3d16efe2",
   "metadata": {},
   "outputs": [],
   "source": [
    "import seaborn as sns\n",
    "import pandas as pd\n",
    "import pyspark.sql.functions as F\n",
    "import matplotlib.pyplot as plt\n"
   ]
  },
  {
   "cell_type": "code",
   "execution_count": 2,
   "id": "edbf5008-08fe-44a4-8002-fa0b2750f791",
   "metadata": {},
   "outputs": [],
   "source": [
    "data = 'gs://pstat135-voter-file/VM2Uniform'\n",
    "\n"
   ]
  },
  {
   "cell_type": "code",
   "execution_count": 3,
   "id": "993b20c5-c71b-4659-8262-63bb75721752",
   "metadata": {},
   "outputs": [],
   "source": [
    "# data_dict = spark.read.format(\"csv\")\\\n",
    "#     .option(\"header\", \"true\")\\\n",
    "#   .option(\"nullValue\", \"NA\")\\\n",
    "#   .load(data+\"VM2Uniform--MI--2021-01-30/VM2Uniform--MI--2021-01-30_DataDictionary.csv\")\n",
    "\n",
    "# data_dict.show(5)"
   ]
  },
  {
   "cell_type": "code",
   "execution_count": 4,
   "id": "5309cc72-d21e-4698-920a-fffd2f44bd47",
   "metadata": {},
   "outputs": [],
   "source": [
    "# bucket_dir = \"gs://pstat135-voter-file/VM2Uniform/\"\n",
    "# df = spark.read.parquet(bucket_dir + 'VM2Uniform--AK--2021-02-03')\n",
    "# df.select(*[\"General_2020\", \"Voters_Age\", \"Voters_Gender\",\"County\", \"Voters_Active\"]).show(5)\n"
   ]
  },
  {
   "cell_type": "code",
   "execution_count": 11,
   "id": "2b00f258-fba2-4973-bbd2-52931c9c6933",
   "metadata": {},
   "outputs": [],
   "source": [
    "# MI - Michigan -- Swing State\n",
    "mi_df = spark.read.parquet(data + \"/\" + \"VM2Uniform--MI--2021-01-30\")\n"
   ]
  },
  {
   "cell_type": "code",
   "execution_count": 6,
   "id": "fa7798a6-7953-4a41-8429-4ab58a38d9b6",
   "metadata": {},
   "outputs": [
    {
     "name": "stderr",
     "output_type": "stream",
     "text": [
      "                                                                                \r"
     ]
    }
   ],
   "source": [
    "# SC - South Carolina -- Rep. State\n",
    "sc_df = spark.read.parquet(data + \"/\" + \"VM2Uniform--SC--2021-04-16\")"
   ]
  },
  {
   "cell_type": "code",
   "execution_count": 7,
   "id": "108b00ab-b643-4bfe-a024-6856b1e92d5e",
   "metadata": {},
   "outputs": [],
   "source": [
    "# MD - Maryland -- Dem State\n",
    "md_df = spark.read.parquet(data + \"/\" + \"VM2Uniform--MD--2021-02-15\")"
   ]
  },
  {
   "cell_type": "code",
   "execution_count": 12,
   "id": "6d77261f-e633-49cf-86b7-3fa3a1d6f897",
   "metadata": {},
   "outputs": [
    {
     "name": "stderr",
     "output_type": "stream",
     "text": [
      "                                                                                \r"
     ]
    },
    {
     "data": {
      "text/plain": [
       "[Row(avg(CommercialData_BookBuyerInHome)=2.593218967009188)]"
      ]
     },
     "execution_count": 12,
     "metadata": {},
     "output_type": "execute_result"
    }
   ],
   "source": [
    "mi_df.fillna(0, subset=[\"CommercialData_BookBuyerInHome\"]).agg({\"CommercialData_BookBuyerInHome\": \"mean\"}).collect()\n"
   ]
  },
  {
   "cell_type": "code",
   "execution_count": 13,
   "id": "06425fdd-d0b1-4b9d-a753-5b50979a3659",
   "metadata": {},
   "outputs": [
    {
     "name": "stderr",
     "output_type": "stream",
     "text": [
      "                                                                                \r"
     ]
    },
    {
     "data": {
      "text/plain": [
       "[Row(avg(CommercialData_BookBuyerInHome)=2.4753504177432237)]"
      ]
     },
     "execution_count": 13,
     "metadata": {},
     "output_type": "execute_result"
    }
   ],
   "source": [
    "sc_df.fillna(0, subset=[\"CommercialData_BookBuyerInHome\"]).agg({\"CommercialData_BookBuyerInHome\": \"mean\"}).collect()"
   ]
  },
  {
   "cell_type": "code",
   "execution_count": 14,
   "id": "2ca884fb-e391-40ee-86fb-99379cf8ec9c",
   "metadata": {},
   "outputs": [
    {
     "name": "stderr",
     "output_type": "stream",
     "text": [
      "                                                                                \r"
     ]
    },
    {
     "data": {
      "text/plain": [
       "[Row(avg(CommercialData_BookBuyerInHome)=2.4846737757047594)]"
      ]
     },
     "execution_count": 14,
     "metadata": {},
     "output_type": "execute_result"
    }
   ],
   "source": [
    "md_df.fillna(0, subset=[\"CommercialData_BookBuyerInHome\"]).agg({\"CommercialData_BookBuyerInHome\": \"mean\"}).collect()"
   ]
  },
  {
   "cell_type": "markdown",
   "id": "6d7b1219-0fab-495d-92a1-25bcfa0e6956",
   "metadata": {},
   "source": [
    "## Examining Interest in guns in each state"
   ]
  },
  {
   "cell_type": "code",
   "execution_count": 15,
   "id": "198fc5f0-2b2d-4f74-88d1-d5799b964760",
   "metadata": {},
   "outputs": [
    {
     "name": "stderr",
     "output_type": "stream",
     "text": [
      "                                                                                \r"
     ]
    },
    {
     "data": {
      "text/plain": [
       "0.11209970013107003"
      ]
     },
     "execution_count": 15,
     "metadata": {},
     "output_type": "execute_result"
    }
   ],
   "source": [
    "# Swing State\n",
    "mi_total = mi_df.select(\"CommercialDataLL_Gun_Owner\").count()\n",
    "mi_int_in_shooting = mi_df.where(mi_df[\"CommercialDataLL_Gun_Owner\"] == \"Yes\").count()\n",
    "mi_int_in_shooting / mi_total"
   ]
  },
  {
   "cell_type": "code",
   "execution_count": 16,
   "id": "97873d8d-8c0c-499b-a8e7-dc7348a903f4",
   "metadata": {},
   "outputs": [
    {
     "name": "stderr",
     "output_type": "stream",
     "text": [
      "                                                                                \r"
     ]
    },
    {
     "data": {
      "text/plain": [
       "0.09195829400568246"
      ]
     },
     "execution_count": 16,
     "metadata": {},
     "output_type": "execute_result"
    }
   ],
   "source": [
    "# Red State\n",
    "sc_total = sc_df.select(\"CommercialDataLL_Gun_Owner\").count()\n",
    "sc_int_in_shooting = sc_df.where(sc_df[\"CommercialDataLL_Gun_Owner\"] == \"Yes\").count()\n",
    "sc_int_in_shooting / sc_total"
   ]
  },
  {
   "cell_type": "code",
   "execution_count": 17,
   "id": "acab6622-f232-4ad8-8886-eb8a06f24e81",
   "metadata": {},
   "outputs": [
    {
     "name": "stderr",
     "output_type": "stream",
     "text": [
      "                                                                                \r"
     ]
    },
    {
     "data": {
      "text/plain": [
       "0.08032389668586108"
      ]
     },
     "execution_count": 17,
     "metadata": {},
     "output_type": "execute_result"
    }
   ],
   "source": [
    "# Blue State\n",
    "md_total = md_df.select(\"CommercialDataLL_Gun_Owner\").count()\n",
    "md_int_in_shooting = md_df.where(md_df[\"CommercialDataLL_Gun_Owner\"] == \"Yes\").count()\n",
    "md_int_in_shooting / md_total"
   ]
  },
  {
   "cell_type": "code",
   "execution_count": 18,
   "id": "83e73571-0ae7-4777-816c-892651c7d3d3",
   "metadata": {},
   "outputs": [
    {
     "name": "stdout",
     "output_type": "stream",
     "text": [
      "+------------------------+\n",
      "|PresidentialPrimary_2020|\n",
      "+------------------------+\n",
      "|                       Y|\n",
      "|                       Y|\n",
      "|                    null|\n",
      "|                       Y|\n",
      "|                       Y|\n",
      "|                       Y|\n",
      "|                    null|\n",
      "|                       Y|\n",
      "|                    null|\n",
      "|                    null|\n",
      "|                    null|\n",
      "|                    null|\n",
      "|                    null|\n",
      "|                       Y|\n",
      "|                       Y|\n",
      "|                    null|\n",
      "|                    null|\n",
      "|                    null|\n",
      "|                    null|\n",
      "|                    null|\n",
      "+------------------------+\n",
      "only showing top 20 rows\n",
      "\n"
     ]
    }
   ],
   "source": [
    "md_df.select(\"PresidentialPrimary_2020\").show(20)"
   ]
  },
  {
   "cell_type": "code",
   "execution_count": 19,
   "id": "c0a8ffd1-e453-4003-83cc-c68b69557bd0",
   "metadata": {},
   "outputs": [
    {
     "name": "stdout",
     "output_type": "stream",
     "text": [
      "+----------------+---------------+----------+------------------------+------------+\n",
      "|Voters_FirstName|Voters_LastName|Voters_Age|PresidentialPrimary_2020|General_2020|\n",
      "+----------------+---------------+----------+------------------------+------------+\n",
      "|        Kristina|       Haddaway|        48|                       Y|           Y|\n",
      "|         Bridget|         Harper|        42|                       Y|           Y|\n",
      "|             Jon|         Harper|        51|                    null|           Y|\n",
      "|           Caryn|         Barnes|        52|                       Y|           Y|\n",
      "|          Braden|         Barnes|      null|                       Y|           Y|\n",
      "|           Casey|         Barnes|      null|                       Y|           Y|\n",
      "|          Shelby|         Barnes|        23|                    null|           Y|\n",
      "|        Lawrence|         Barnes|        52|                       Y|           Y|\n",
      "|            Eric|       Beaufait|        50|                    null|           Y|\n",
      "|           Megan|       Beaufait|        47|                    null|           Y|\n",
      "+----------------+---------------+----------+------------------------+------------+\n",
      "only showing top 10 rows\n",
      "\n"
     ]
    }
   ],
   "source": [
    "cols_to_select = [\"Voters_FirstName\", \"Voters_LastName\", \"Voters_Age\",\n",
    "                  \"PresidentialPrimary_2020\",\n",
    "                  \"General_2020\"\n",
    "                 ]\n",
    "\n",
    "md_df.select(*cols_to_select).show(10)"
   ]
  },
  {
   "cell_type": "code",
   "execution_count": 20,
   "id": "6a289d93-47ef-47b0-b122-1237a00c8489",
   "metadata": {},
   "outputs": [
    {
     "name": "stdout",
     "output_type": "stream",
     "text": [
      "+--------+-----------+-------------------------------------+-------------------------------------------+\n",
      "|  County|Voters_FIPS|ElectionReturns_P16_Cnty_Vote_Trump_R|ElectionReturns_P16CountyTurnoutRepublicans|\n",
      "+--------+-----------+-------------------------------------+-------------------------------------------+\n",
      "|MARLBORO|        069|                                  741|                                        22%|\n",
      "|MARLBORO|        069|                                  741|                                        22%|\n",
      "|MARLBORO|        069|                                  741|                                        22%|\n",
      "|MARLBORO|        069|                                  741|                                        22%|\n",
      "|MARLBORO|        069|                                  741|                                        22%|\n",
      "|MARLBORO|        069|                                  741|                                        22%|\n",
      "|MARLBORO|        069|                                  741|                                        22%|\n",
      "|MARLBORO|        069|                                  741|                                        22%|\n",
      "|MARLBORO|        069|                                  741|                                        22%|\n",
      "|MARLBORO|        069|                                  741|                                        22%|\n",
      "+--------+-----------+-------------------------------------+-------------------------------------------+\n",
      "only showing top 10 rows\n",
      "\n"
     ]
    }
   ],
   "source": [
    "sc_df.select(*[\"County\", \"Voters_FIPS\",\n",
    "               \"ElectionReturns_P16_Cnty_Vote_Trump_R\",\n",
    "               \"ElectionReturns_P16CountyTurnoutRepublicans\"])\\\n",
    "    .show(10)"
   ]
  },
  {
   "cell_type": "code",
   "execution_count": 21,
   "id": "82f938be-5abf-401d-9be5-b8db0ce0338f",
   "metadata": {},
   "outputs": [],
   "source": [
    "land_cols = [\"General_2020\", \"Voters_Age\", \"Voters_Gender\",\"County\", \"Voters_Active\",\n",
    "                    \"Voters_VotingPerformanceEvenYearGeneral\", \"ElectionReturns_G18CountyTurnoutRepublicans\",\n",
    "                   \"ElectionReturns_G18CountyTurnoutIndependentsAllOthers\", \n",
    "                   \"ElectionReturns_G18CountyTurnoutDemocrats\",\n",
    "                   \"ElectionReturns_P18CountyTurnoutAllRegisteredVoters\",\n",
    "                   \"ElectionReturns_G16CountyTurnoutRepublicans\",\n",
    "                   \"ElectionReturns_G16CountyTurnoutIndependentsAllOthers\", \n",
    "                   \"ElectionReturns_G16CountyTurnoutDemocrats\",\n",
    "                   \"ElectionReturns_P16CountyTurnoutAllRegisteredVoters\",\n",
    "                   \"ElectionReturns_G14CountyTurnoutRepublicans\",\n",
    "                   \"ElectionReturns_G14CountyTurnoutIndependentsAllOthers\", \n",
    "                   \"ElectionReturns_G14CountyTurnoutDemocrats\",\n",
    "                   \"ElectionReturns_P14CountyTurnoutAllRegisteredVoters\",\n",
    "                   \"ElectionReturns_G12CountyTurnoutRepublicans\",\n",
    "                   \"ElectionReturns_G12CountyTurnoutIndependentsAllOthers\", \n",
    "                   \"ElectionReturns_G12CountyTurnoutDemocrats\",\n",
    "                   \"ElectionReturns_P12CountyTurnoutAllRegisteredVoters\",\n",
    "                   \"Residence_Addresses_Property_LandSq_Footage\",\n",
    "                   \"Residence_Addresses_Property_HomeSq_Footage\",\n",
    "                    \"CommercialDataLL_Gun_Owner\",\n",
    "                    \"CommercialDataLL_Interest_in_Religious_Inspirational_In_Household\",\n",
    "                    \"Parties_Description\"\n",
    "                    \n",
    "                   ]"
   ]
  },
  {
   "cell_type": "code",
   "execution_count": 22,
   "id": "3dd268b3-24a9-4640-9e0c-21cda7df1367",
   "metadata": {},
   "outputs": [
    {
     "name": "stderr",
     "output_type": "stream",
     "text": [
      "23/03/15 23:24:07 WARN org.apache.spark.sql.catalyst.util.package: Truncated the string representation of a plan since it was too large. This behavior can be adjusted by setting 'spark.sql.debug.maxToStringFields'.\n",
      "                                                                                \r"
     ]
    }
   ],
   "source": [
    "sc_df_pd = sc_df.select(*land_cols).sample(True, 0.005, 123).toPandas()\n",
    "md_df_pd = md_df.select(*land_cols).sample(True, 0.005, 123).toPandas()\n",
    "mi_df_pd = mi_df.select(*land_cols).sample(True, 0.005, 123).toPandas()"
   ]
  },
  {
   "cell_type": "code",
   "execution_count": 23,
   "id": "85aa866a-06be-479a-99dc-fd8c53f4d1e2",
   "metadata": {},
   "outputs": [],
   "source": [
    "sc_df_pd = sc_df_pd.sample(2000, random_state=123)\n",
    "md_df_pd = md_df_pd.sample(2000, random_state=123)\n",
    "mi_df_pd = mi_df_pd.sample(2000, random_state=123)\n"
   ]
  },
  {
   "cell_type": "code",
   "execution_count": 24,
   "id": "feda84e8-18ba-47e9-8e65-bd0bb1fb318a",
   "metadata": {},
   "outputs": [],
   "source": [
    "sc_df_pd[\"State\"] = \"SC\"\n",
    "md_df_pd[\"State\"] = \"MD\"\n",
    "mi_df_pd[\"State\"] = \"MI\""
   ]
  },
  {
   "cell_type": "code",
   "execution_count": 40,
   "id": "e404ab50-03f0-48d4-aac3-49f1b99aed14",
   "metadata": {},
   "outputs": [
    {
     "data": {
      "text/plain": [
       "(6000, 28)"
      ]
     },
     "execution_count": 40,
     "metadata": {},
     "output_type": "execute_result"
    }
   ],
   "source": [
    "all_pd = sc_df_pd.append(md_df_pd).append(mi_df_pd)\n",
    "all_pd[\"CommercialDataLL_Interest_in_Religious_Inspirational_In_Household\"] = all_pd[\"CommercialDataLL_Interest_in_Religious_Inspirational_In_Household\"] == \"Yes\"\n",
    "all_pd[\"CommercialDataLL_Gun_Owner\"] = all_pd[\"CommercialDataLL_Gun_Owner\"] == \"Yes\"\n",
    "\n",
    "all_pd['ElectionReturns_G18CountyTurnoutRepublicans'] = pd.to_numeric(all_pd['ElectionReturns_G18CountyTurnoutRepublicans'].str.replace(r'%', ''))\n",
    "all_pd['ElectionReturns_G18CountyTurnoutDemocrats'] = pd.to_numeric(all_pd['ElectionReturns_G18CountyTurnoutDemocrats'].str.replace(r'%', ''))\n",
    "all_pd['ElectionReturns_G16CountyTurnoutRepublicans'] = pd.to_numeric(all_pd['ElectionReturns_G16CountyTurnoutRepublicans'].str.replace(r'%', ''))\n",
    "all_pd['ElectionReturns_G16CountyTurnoutDemocrats'] = pd.to_numeric(all_pd['ElectionReturns_G16CountyTurnoutDemocrats'].str.replace(r'%', ''))\n",
    "\n",
    "all_pd[\"Voters_Age\"] = pd.to_numeric(all_pd[\"Voters_Age\"])\n",
    "all_pd[\"Residence_Addresses_Property_LandSq_Footage\"] = pd.to_numeric(all_pd[\"Residence_Addresses_Property_LandSq_Footage\"])\n",
    "all_pd[\"Residence_Addresses_Property_HomeSq_Footage\"] = pd.to_numeric(all_pd[\"Residence_Addresses_Property_HomeSq_Footage\"])\n",
    "\n",
    "all_pd.shape"
   ]
  },
  {
   "cell_type": "code",
   "execution_count": 26,
   "id": "310f4965-04bf-42df-aeee-e538de4ff957",
   "metadata": {},
   "outputs": [
    {
     "data": {
      "text/html": [
       "<div>\n",
       "<style scoped>\n",
       "    .dataframe tbody tr th:only-of-type {\n",
       "        vertical-align: middle;\n",
       "    }\n",
       "\n",
       "    .dataframe tbody tr th {\n",
       "        vertical-align: top;\n",
       "    }\n",
       "\n",
       "    .dataframe thead th {\n",
       "        text-align: right;\n",
       "    }\n",
       "</style>\n",
       "<table border=\"1\" class=\"dataframe\">\n",
       "  <thead>\n",
       "    <tr style=\"text-align: right;\">\n",
       "      <th></th>\n",
       "      <th>General_2020</th>\n",
       "      <th>Voters_Age</th>\n",
       "      <th>Voters_Gender</th>\n",
       "      <th>County</th>\n",
       "      <th>Voters_Active</th>\n",
       "      <th>Voters_VotingPerformanceEvenYearGeneral</th>\n",
       "      <th>ElectionReturns_G18CountyTurnoutRepublicans</th>\n",
       "      <th>ElectionReturns_G18CountyTurnoutIndependentsAllOthers</th>\n",
       "      <th>ElectionReturns_G18CountyTurnoutDemocrats</th>\n",
       "      <th>ElectionReturns_P18CountyTurnoutAllRegisteredVoters</th>\n",
       "      <th>...</th>\n",
       "      <th>ElectionReturns_G12CountyTurnoutRepublicans</th>\n",
       "      <th>ElectionReturns_G12CountyTurnoutIndependentsAllOthers</th>\n",
       "      <th>ElectionReturns_G12CountyTurnoutDemocrats</th>\n",
       "      <th>ElectionReturns_P12CountyTurnoutAllRegisteredVoters</th>\n",
       "      <th>Residence_Addresses_Property_LandSq_Footage</th>\n",
       "      <th>Residence_Addresses_Property_HomeSq_Footage</th>\n",
       "      <th>CommercialDataLL_Gun_Owner</th>\n",
       "      <th>CommercialDataLL_Interest_in_Religious_Inspirational_In_Household</th>\n",
       "      <th>Parties_Description</th>\n",
       "      <th>State</th>\n",
       "    </tr>\n",
       "  </thead>\n",
       "  <tbody>\n",
       "    <tr>\n",
       "      <th>4341</th>\n",
       "      <td>None</td>\n",
       "      <td>68.0</td>\n",
       "      <td>F</td>\n",
       "      <td>HORRY</td>\n",
       "      <td>A</td>\n",
       "      <td>50%</td>\n",
       "      <td>65</td>\n",
       "      <td>27%</td>\n",
       "      <td>43</td>\n",
       "      <td>20%</td>\n",
       "      <td>...</td>\n",
       "      <td>85%</td>\n",
       "      <td>28%</td>\n",
       "      <td>57%</td>\n",
       "      <td>18%</td>\n",
       "      <td>0009000</td>\n",
       "      <td>02400</td>\n",
       "      <td>False</td>\n",
       "      <td>False</td>\n",
       "      <td>Republican</td>\n",
       "      <td>SC</td>\n",
       "    </tr>\n",
       "    <tr>\n",
       "      <th>9893</th>\n",
       "      <td>Y</td>\n",
       "      <td>39.0</td>\n",
       "      <td>M</td>\n",
       "      <td>YORK</td>\n",
       "      <td>A</td>\n",
       "      <td>40%</td>\n",
       "      <td>69</td>\n",
       "      <td>33%</td>\n",
       "      <td>50</td>\n",
       "      <td>16%</td>\n",
       "      <td>...</td>\n",
       "      <td>86%</td>\n",
       "      <td>34%</td>\n",
       "      <td>61%</td>\n",
       "      <td>3%</td>\n",
       "      <td>0493000</td>\n",
       "      <td>01400</td>\n",
       "      <td>False</td>\n",
       "      <td>False</td>\n",
       "      <td>Republican</td>\n",
       "      <td>SC</td>\n",
       "    </tr>\n",
       "    <tr>\n",
       "      <th>6609</th>\n",
       "      <td>Y</td>\n",
       "      <td>86.0</td>\n",
       "      <td>F</td>\n",
       "      <td>BEAUFORT</td>\n",
       "      <td>A</td>\n",
       "      <td>Not Eligible</td>\n",
       "      <td>73</td>\n",
       "      <td>34%</td>\n",
       "      <td>54</td>\n",
       "      <td>26%</td>\n",
       "      <td>...</td>\n",
       "      <td>82%</td>\n",
       "      <td>28%</td>\n",
       "      <td>65%</td>\n",
       "      <td>7%</td>\n",
       "      <td>0008000</td>\n",
       "      <td>02600</td>\n",
       "      <td>False</td>\n",
       "      <td>False</td>\n",
       "      <td>Non-Partisan</td>\n",
       "      <td>SC</td>\n",
       "    </tr>\n",
       "    <tr>\n",
       "      <th>9076</th>\n",
       "      <td>Y</td>\n",
       "      <td>81.0</td>\n",
       "      <td>M</td>\n",
       "      <td>SPARTANBURG</td>\n",
       "      <td>A</td>\n",
       "      <td>100%</td>\n",
       "      <td>66</td>\n",
       "      <td>23%</td>\n",
       "      <td>42</td>\n",
       "      <td>23%</td>\n",
       "      <td>...</td>\n",
       "      <td>87%</td>\n",
       "      <td>28%</td>\n",
       "      <td>59%</td>\n",
       "      <td>6%</td>\n",
       "      <td>0028000</td>\n",
       "      <td>01600</td>\n",
       "      <td>True</td>\n",
       "      <td>True</td>\n",
       "      <td>Republican</td>\n",
       "      <td>SC</td>\n",
       "    </tr>\n",
       "    <tr>\n",
       "      <th>4585</th>\n",
       "      <td>Y</td>\n",
       "      <td>28.0</td>\n",
       "      <td>F</td>\n",
       "      <td>HORRY</td>\n",
       "      <td>A</td>\n",
       "      <td>75%</td>\n",
       "      <td>65</td>\n",
       "      <td>27%</td>\n",
       "      <td>43</td>\n",
       "      <td>20%</td>\n",
       "      <td>...</td>\n",
       "      <td>85%</td>\n",
       "      <td>28%</td>\n",
       "      <td>57%</td>\n",
       "      <td>18%</td>\n",
       "      <td>0008000</td>\n",
       "      <td>01300</td>\n",
       "      <td>False</td>\n",
       "      <td>False</td>\n",
       "      <td>Democratic</td>\n",
       "      <td>SC</td>\n",
       "    </tr>\n",
       "  </tbody>\n",
       "</table>\n",
       "<p>5 rows × 28 columns</p>\n",
       "</div>"
      ],
      "text/plain": [
       "     General_2020  Voters_Age Voters_Gender       County Voters_Active  \\\n",
       "4341         None        68.0             F        HORRY             A   \n",
       "9893            Y        39.0             M         YORK             A   \n",
       "6609            Y        86.0             F     BEAUFORT             A   \n",
       "9076            Y        81.0             M  SPARTANBURG             A   \n",
       "4585            Y        28.0             F        HORRY             A   \n",
       "\n",
       "     Voters_VotingPerformanceEvenYearGeneral  \\\n",
       "4341                                     50%   \n",
       "9893                                     40%   \n",
       "6609                            Not Eligible   \n",
       "9076                                    100%   \n",
       "4585                                     75%   \n",
       "\n",
       "      ElectionReturns_G18CountyTurnoutRepublicans  \\\n",
       "4341                                           65   \n",
       "9893                                           69   \n",
       "6609                                           73   \n",
       "9076                                           66   \n",
       "4585                                           65   \n",
       "\n",
       "     ElectionReturns_G18CountyTurnoutIndependentsAllOthers  \\\n",
       "4341                                                27%      \n",
       "9893                                                33%      \n",
       "6609                                                34%      \n",
       "9076                                                23%      \n",
       "4585                                                27%      \n",
       "\n",
       "      ElectionReturns_G18CountyTurnoutDemocrats  \\\n",
       "4341                                         43   \n",
       "9893                                         50   \n",
       "6609                                         54   \n",
       "9076                                         42   \n",
       "4585                                         43   \n",
       "\n",
       "     ElectionReturns_P18CountyTurnoutAllRegisteredVoters  ...  \\\n",
       "4341                                                20%   ...   \n",
       "9893                                                16%   ...   \n",
       "6609                                                26%   ...   \n",
       "9076                                                23%   ...   \n",
       "4585                                                20%   ...   \n",
       "\n",
       "      ElectionReturns_G12CountyTurnoutRepublicans  \\\n",
       "4341                                          85%   \n",
       "9893                                          86%   \n",
       "6609                                          82%   \n",
       "9076                                          87%   \n",
       "4585                                          85%   \n",
       "\n",
       "     ElectionReturns_G12CountyTurnoutIndependentsAllOthers  \\\n",
       "4341                                                28%      \n",
       "9893                                                34%      \n",
       "6609                                                28%      \n",
       "9076                                                28%      \n",
       "4585                                                28%      \n",
       "\n",
       "      ElectionReturns_G12CountyTurnoutDemocrats  \\\n",
       "4341                                        57%   \n",
       "9893                                        61%   \n",
       "6609                                        65%   \n",
       "9076                                        59%   \n",
       "4585                                        57%   \n",
       "\n",
       "     ElectionReturns_P12CountyTurnoutAllRegisteredVoters  \\\n",
       "4341                                                18%    \n",
       "9893                                                 3%    \n",
       "6609                                                 7%    \n",
       "9076                                                 6%    \n",
       "4585                                                18%    \n",
       "\n",
       "     Residence_Addresses_Property_LandSq_Footage  \\\n",
       "4341                                     0009000   \n",
       "9893                                     0493000   \n",
       "6609                                     0008000   \n",
       "9076                                     0028000   \n",
       "4585                                     0008000   \n",
       "\n",
       "     Residence_Addresses_Property_HomeSq_Footage CommercialDataLL_Gun_Owner  \\\n",
       "4341                                       02400                      False   \n",
       "9893                                       01400                      False   \n",
       "6609                                       02600                      False   \n",
       "9076                                       01600                       True   \n",
       "4585                                       01300                      False   \n",
       "\n",
       "     CommercialDataLL_Interest_in_Religious_Inspirational_In_Household  \\\n",
       "4341                                              False                  \n",
       "9893                                              False                  \n",
       "6609                                              False                  \n",
       "9076                                               True                  \n",
       "4585                                              False                  \n",
       "\n",
       "     Parties_Description State  \n",
       "4341          Republican    SC  \n",
       "9893          Republican    SC  \n",
       "6609        Non-Partisan    SC  \n",
       "9076          Republican    SC  \n",
       "4585          Democratic    SC  \n",
       "\n",
       "[5 rows x 28 columns]"
      ]
     },
     "execution_count": 26,
     "metadata": {},
     "output_type": "execute_result"
    }
   ],
   "source": [
    "all_pd.head()"
   ]
  },
  {
   "cell_type": "code",
   "execution_count": 27,
   "id": "231f5223-369f-4567-ba7f-0d5c2ff8c0d5",
   "metadata": {},
   "outputs": [
    {
     "data": {
      "text/plain": [
       "General_2020                                                          object\n",
       "Voters_Age                                                           float64\n",
       "Voters_Gender                                                         object\n",
       "County                                                                object\n",
       "Voters_Active                                                         object\n",
       "Voters_VotingPerformanceEvenYearGeneral                               object\n",
       "ElectionReturns_G18CountyTurnoutRepublicans                            int64\n",
       "ElectionReturns_G18CountyTurnoutIndependentsAllOthers                 object\n",
       "ElectionReturns_G18CountyTurnoutDemocrats                              int64\n",
       "ElectionReturns_P18CountyTurnoutAllRegisteredVoters                   object\n",
       "ElectionReturns_G16CountyTurnoutRepublicans                            int64\n",
       "ElectionReturns_G16CountyTurnoutIndependentsAllOthers                 object\n",
       "ElectionReturns_G16CountyTurnoutDemocrats                              int64\n",
       "ElectionReturns_P16CountyTurnoutAllRegisteredVoters                   object\n",
       "ElectionReturns_G14CountyTurnoutRepublicans                           object\n",
       "ElectionReturns_G14CountyTurnoutIndependentsAllOthers                 object\n",
       "ElectionReturns_G14CountyTurnoutDemocrats                             object\n",
       "ElectionReturns_P14CountyTurnoutAllRegisteredVoters                   object\n",
       "ElectionReturns_G12CountyTurnoutRepublicans                           object\n",
       "ElectionReturns_G12CountyTurnoutIndependentsAllOthers                 object\n",
       "ElectionReturns_G12CountyTurnoutDemocrats                             object\n",
       "ElectionReturns_P12CountyTurnoutAllRegisteredVoters                   object\n",
       "Residence_Addresses_Property_LandSq_Footage                           object\n",
       "Residence_Addresses_Property_HomeSq_Footage                           object\n",
       "CommercialDataLL_Gun_Owner                                              bool\n",
       "CommercialDataLL_Interest_in_Religious_Inspirational_In_Household       bool\n",
       "Parties_Description                                                   object\n",
       "State                                                                 object\n",
       "dtype: object"
      ]
     },
     "execution_count": 27,
     "metadata": {},
     "output_type": "execute_result"
    }
   ],
   "source": [
    "all_pd.dtypes"
   ]
  },
  {
   "cell_type": "code",
   "execution_count": 28,
   "id": "150b2d23-8a3e-4166-9ec5-0b2171508953",
   "metadata": {},
   "outputs": [
    {
     "data": {
      "text/plain": [
       "<matplotlib.legend.Legend at 0x7f0fd2f9e4f0>"
      ]
     },
     "execution_count": 28,
     "metadata": {},
     "output_type": "execute_result"
    },
    {
     "data": {
      "image/png": "[encoded data removed]",
      "text/plain": [
       "<Figure size 640x480 with 1 Axes>"
      ]
     },
     "metadata": {},
     "output_type": "display_data"
    }
   ],
   "source": [
    "ageplot = sns.boxplot(data=all_pd, x=\"Voters_Age\", y=\"State\", hue=\"Parties_Description\")\n",
    "ageplot = plt.legend(bbox_to_anchor=(1.02, 1), loc='upper left', borderaxespad=0)\n",
    "ageplot"
   ]
  },
  {
   "cell_type": "code",
   "execution_count": 30,
   "id": "f66b90fa-9dc5-40f3-bf86-881aa837fa5f",
   "metadata": {},
   "outputs": [
    {
     "data": {
      "text/plain": [
       "<matplotlib.legend.Legend at 0x7f0fd96a1910>"
      ]
     },
     "execution_count": 30,
     "metadata": {},
     "output_type": "execute_result"
    },
    {
     "data": {
      "image/png": "[encoded data removed]",
      "text/plain": [
       "<Figure size 640x480 with 1 Axes>"
      ]
     },
     "metadata": {},
     "output_type": "display_data"
    }
   ],
   "source": [
    "\n",
    "religion_chart = sns.countplot(data=all_pd, x=\"State\",\n",
    "                             hue=\"CommercialDataLL_Interest_in_Religious_Inspirational_In_Household\").set(title=\"Interest in Religion\")\n",
    "religion_chart = plt.legend(bbox_to_anchor=(1.02, 1), loc='upper left', borderaxespad=0)\n",
    "\n",
    "religion_chart"
   ]
  },
  {
   "cell_type": "code",
   "execution_count": 31,
   "id": "85b179d1-94df-43b5-b06f-d6c76f6a1660",
   "metadata": {},
   "outputs": [
    {
     "data": {
      "text/plain": [
       "<matplotlib.legend.Legend at 0x7f0fd96cc250>"
      ]
     },
     "execution_count": 31,
     "metadata": {},
     "output_type": "execute_result"
    },
    {
     "data": {
      "image/png": "[encoded data removed]",
      "text/plain": [
       "<Figure size 640x480 with 1 Axes>"
      ]
     },
     "metadata": {},
     "output_type": "display_data"
    }
   ],
   "source": [
    "guns_chart = sns.countplot(data=all_pd, x=\"State\",\n",
    "                             hue=\"CommercialDataLL_Gun_Owner\").set(title=\"Gun Ownership\")\n",
    "guns_chart = plt.legend(bbox_to_anchor=(1.02, 1), loc='upper left', borderaxespad=0)\n",
    "\n",
    "guns_chart"
   ]
  },
  {
   "cell_type": "code",
   "execution_count": 32,
   "id": "7d9465f8-7567-4a36-934e-2790cb74b4f5",
   "metadata": {},
   "outputs": [
    {
     "data": {
      "text/plain": [
       "<matplotlib.legend.Legend at 0x7f0fd9501d30>"
      ]
     },
     "execution_count": 32,
     "metadata": {},
     "output_type": "execute_result"
    },
    {
     "data": {
      "image/png": "[encoded data removed]",
      "text/plain": [
       "<Figure size 640x480 with 1 Axes>"
      ]
     },
     "metadata": {},
     "output_type": "display_data"
    }
   ],
   "source": [
    "guns_df = all_pd[all_pd[\"CommercialDataLL_Gun_Owner\"]]\n",
    "guns_party_chart = sns.countplot(data=guns_df, x=\"State\",\n",
    "                             hue=\"Parties_Description\").set(title=\"Gun Ownership by Party\")\n",
    "guns_party_chart = plt.legend(bbox_to_anchor=(1.02, 1), loc='upper left', borderaxespad=0)\n",
    "\n",
    "guns_party_chart"
   ]
  },
  {
   "cell_type": "code",
   "execution_count": 39,
   "id": "16d8f676-8475-41a9-a4dc-e95cd7418f7b",
   "metadata": {},
   "outputs": [
    {
     "data": {
      "text/plain": [
       "<matplotlib.legend.Legend at 0x7f0fd96ccf70>"
      ]
     },
     "execution_count": 39,
     "metadata": {},
     "output_type": "execute_result"
    },
    {
     "data": {
      "image/png": "[encoded data removed]",
      "text/plain": [
       "<Figure size 640x480 with 1 Axes>"
      ]
     },
     "metadata": {},
     "output_type": "display_data"
    }
   ],
   "source": [
    "land_plot = sns.boxplot(data=all_pd, x=\"Residence_Addresses_Property_LandSq_Footage\", y=\"State\", hue=\"Parties_Description\")\n",
    "land_plot.set(title=\"Land Sq. Ft. by Party\")\n",
    "land_plot.set_xlim(0, 150000)\n",
    "land_plot = plt.legend(bbox_to_anchor=(1.02, 1), loc='upper left', borderaxespad=0)\n",
    "\n",
    "land_plot"
   ]
  },
  {
   "cell_type": "code",
   "execution_count": 41,
   "id": "2ab1278b-87c9-4c69-a617-e4df7e8e835d",
   "metadata": {},
   "outputs": [
    {
     "data": {
      "text/plain": [
       "<matplotlib.legend.Legend at 0x7f0fd9601820>"
      ]
     },
     "execution_count": 41,
     "metadata": {},
     "output_type": "execute_result"
    },
    {
     "data": {
      "image/png": "[encoded data removed]",
      "text/plain": [
       "<Figure size 640x480 with 1 Axes>"
      ]
     },
     "metadata": {},
     "output_type": "display_data"
    }
   ],
   "source": [
    "sqft_plot = sns.boxplot(data=all_pd, x=\"Residence_Addresses_Property_HomeSq_Footage\", y=\"State\", hue=\"Parties_Description\")\n",
    "sqft_plot.set(title=\"Home Sq. Ft. by Party\")\n",
    "sqft_plot.set_xlim(0, 15000)\n",
    "sqft_plot = plt.legend(bbox_to_anchor=(1.02, 1), loc='upper left', borderaxespad=0)\n",
    "\n",
    "sqft_plot"
   ]
  },
  {
   "cell_type": "code",
   "execution_count": 35,
   "id": "2a383814-3d52-4898-a8e2-cc76df698515",
   "metadata": {},
   "outputs": [
    {
     "data": {
      "text/plain": [
       "<matplotlib.legend.Legend at 0x7f0fd9e8e1f0>"
      ]
     },
     "execution_count": 35,
     "metadata": {},
     "output_type": "execute_result"
    },
    {
     "data": {
      "image/png": "[encoded data removed]",
      "text/plain": [
       "<Figure size 640x480 with 1 Axes>"
      ]
     },
     "metadata": {},
     "output_type": "display_data"
    }
   ],
   "source": [
    "party_chart = sns.countplot(data=all_pd, x=\"State\",\n",
    "                             hue=\"Parties_Description\").set(title=\"Political Parties\")\n",
    "party_chart = plt.legend(bbox_to_anchor=(1.02, 1), loc='upper left', borderaxespad=0)\n",
    "\n",
    "party_chart"
   ]
  },
  {
   "cell_type": "code",
   "execution_count": 36,
   "id": "67063c63-959a-464c-810b-b81d8cbd3205",
   "metadata": {},
   "outputs": [
    {
     "name": "stderr",
     "output_type": "stream",
     "text": [
      "No handles with labels found to put in legend.\n"
     ]
    },
    {
     "data": {
      "text/plain": [
       "<matplotlib.legend.Legend at 0x7f0fe6d64d30>"
      ]
     },
     "execution_count": 36,
     "metadata": {},
     "output_type": "execute_result"
    },
    {
     "data": {
      "image/png": "[encoded data removed]",
      "text/plain": [
       "<Figure size 640x480 with 1 Axes>"
      ]
     },
     "metadata": {},
     "output_type": "display_data"
    }
   ],
   "source": [
    "\n",
    "rep_turnout_plot = sns.boxplot(data=all_pd, x=\"ElectionReturns_G18CountyTurnoutRepublicans\", y=\"State\")\n",
    "rep_turnout_plot.set(title=\"Republican turnout at 2018 General Election\")\n",
    "rep_turnout_plot = plt.legend(bbox_to_anchor=(1.02, 1), loc='upper left', borderaxespad=0)\n",
    "\n",
    "rep_turnout_plot"
   ]
  },
  {
   "cell_type": "code",
   "execution_count": 42,
   "id": "ffa08ff9-5ce9-4ba0-987f-10ca3f06a99b",
   "metadata": {},
   "outputs": [
    {
     "name": "stderr",
     "output_type": "stream",
     "text": [
      "No handles with labels found to put in legend.\n"
     ]
    },
    {
     "data": {
      "text/plain": [
       "<matplotlib.legend.Legend at 0x7f0fd9f74400>"
      ]
     },
     "execution_count": 42,
     "metadata": {},
     "output_type": "execute_result"
    },
    {
     "data": {
      "image/png": "[encoded data removed]",
      "text/plain": [
       "<Figure size 640x480 with 1 Axes>"
      ]
     },
     "metadata": {},
     "output_type": "display_data"
    }
   ],
   "source": [
    "dem_turnout_plot = sns.boxplot(data=all_pd, x=\"ElectionReturns_G18CountyTurnoutDemocrats\", y=\"State\")\n",
    "dem_turnout_plot.set(title=\"Democratic turnout at 2018 General Election\")\n",
    "dem_turnout_plot = plt.legend(bbox_to_anchor=(1.02, 1), loc='upper left', borderaxespad=0)\n",
    "\n",
    "dem_turnout_plot"
   ]
  },
  {
   "cell_type": "code",
   "execution_count": 43,
   "id": "efc9511a-12cd-4b62-ab81-bb1016e6e66e",
   "metadata": {},
   "outputs": [
    {
     "data": {
      "text/html": [
       "<div>\n",
       "<style scoped>\n",
       "    .dataframe tbody tr th:only-of-type {\n",
       "        vertical-align: middle;\n",
       "    }\n",
       "\n",
       "    .dataframe tbody tr th {\n",
       "        vertical-align: top;\n",
       "    }\n",
       "\n",
       "    .dataframe thead th {\n",
       "        text-align: right;\n",
       "    }\n",
       "</style>\n",
       "<table border=\"1\" class=\"dataframe\">\n",
       "  <thead>\n",
       "    <tr style=\"text-align: right;\">\n",
       "      <th></th>\n",
       "      <th>State</th>\n",
       "      <th>variable</th>\n",
       "      <th>value</th>\n",
       "    </tr>\n",
       "  </thead>\n",
       "  <tbody>\n",
       "    <tr>\n",
       "      <th>0</th>\n",
       "      <td>SC</td>\n",
       "      <td>ElectionReturns_G18CountyTurnoutDemocrats</td>\n",
       "      <td>43</td>\n",
       "    </tr>\n",
       "    <tr>\n",
       "      <th>1</th>\n",
       "      <td>SC</td>\n",
       "      <td>ElectionReturns_G18CountyTurnoutDemocrats</td>\n",
       "      <td>50</td>\n",
       "    </tr>\n",
       "    <tr>\n",
       "      <th>2</th>\n",
       "      <td>SC</td>\n",
       "      <td>ElectionReturns_G18CountyTurnoutDemocrats</td>\n",
       "      <td>54</td>\n",
       "    </tr>\n",
       "    <tr>\n",
       "      <th>3</th>\n",
       "      <td>SC</td>\n",
       "      <td>ElectionReturns_G18CountyTurnoutDemocrats</td>\n",
       "      <td>42</td>\n",
       "    </tr>\n",
       "    <tr>\n",
       "      <th>4</th>\n",
       "      <td>SC</td>\n",
       "      <td>ElectionReturns_G18CountyTurnoutDemocrats</td>\n",
       "      <td>43</td>\n",
       "    </tr>\n",
       "  </tbody>\n",
       "</table>\n",
       "</div>"
      ],
      "text/plain": [
       "  State                                   variable  value\n",
       "0    SC  ElectionReturns_G18CountyTurnoutDemocrats     43\n",
       "1    SC  ElectionReturns_G18CountyTurnoutDemocrats     50\n",
       "2    SC  ElectionReturns_G18CountyTurnoutDemocrats     54\n",
       "3    SC  ElectionReturns_G18CountyTurnoutDemocrats     42\n",
       "4    SC  ElectionReturns_G18CountyTurnoutDemocrats     43"
      ]
     },
     "execution_count": 43,
     "metadata": {},
     "output_type": "execute_result"
    }
   ],
   "source": [
    "turnout_2018 = all_pd[[\"ElectionReturns_G18CountyTurnoutDemocrats\", \"ElectionReturns_G18CountyTurnoutRepublicans\", \"State\"]]\n",
    "turnout_2018 = pd.melt(turnout_2018, id_vars=\"State\", value_vars=[\"ElectionReturns_G18CountyTurnoutDemocrats\", \"ElectionReturns_G18CountyTurnoutRepublicans\"])\n",
    "turnout_2018.head()"
   ]
  },
  {
   "cell_type": "code",
   "execution_count": 44,
   "id": "40c02418-79ec-4f03-9484-113dd0a66624",
   "metadata": {},
   "outputs": [
    {
     "data": {
      "text/plain": [
       "<matplotlib.legend.Legend at 0x7f0fd924df70>"
      ]
     },
     "execution_count": 44,
     "metadata": {},
     "output_type": "execute_result"
    },
    {
     "data": {
      "image/png": "[encoded data removed]",
      "text/plain": [
       "<Figure size 640x480 with 1 Axes>"
      ]
     },
     "metadata": {},
     "output_type": "display_data"
    }
   ],
   "source": [
    "turnout_2018_plot = sns.boxplot(data=turnout_2018, x=\"value\", y=\"State\", hue=\"variable\")\n",
    "turnout_2018_plot.set(title=\"Vturnout at 2018 General Election\", xlabel=\"Percent Turnout\")\n",
    "turnout_2018_plot.set_xlim(25,100)\n",
    "plt.legend(bbox_to_anchor=(1.02, 1), loc='upper left', borderaxespad=0)"
   ]
  },
  {
   "cell_type": "code",
   "execution_count": 45,
   "id": "c8bcc25a-7d1d-4fb7-b4de-b49677c589cb",
   "metadata": {},
   "outputs": [
    {
     "data": {
      "text/html": [
       "<div>\n",
       "<style scoped>\n",
       "    .dataframe tbody tr th:only-of-type {\n",
       "        vertical-align: middle;\n",
       "    }\n",
       "\n",
       "    .dataframe tbody tr th {\n",
       "        vertical-align: top;\n",
       "    }\n",
       "\n",
       "    .dataframe thead th {\n",
       "        text-align: right;\n",
       "    }\n",
       "</style>\n",
       "<table border=\"1\" class=\"dataframe\">\n",
       "  <thead>\n",
       "    <tr style=\"text-align: right;\">\n",
       "      <th></th>\n",
       "      <th>State</th>\n",
       "      <th>variable</th>\n",
       "      <th>value</th>\n",
       "    </tr>\n",
       "  </thead>\n",
       "  <tbody>\n",
       "    <tr>\n",
       "      <th>0</th>\n",
       "      <td>SC</td>\n",
       "      <td>ElectionReturns_G16CountyTurnoutDemocrats</td>\n",
       "      <td>56</td>\n",
       "    </tr>\n",
       "    <tr>\n",
       "      <th>1</th>\n",
       "      <td>SC</td>\n",
       "      <td>ElectionReturns_G16CountyTurnoutDemocrats</td>\n",
       "      <td>61</td>\n",
       "    </tr>\n",
       "    <tr>\n",
       "      <th>2</th>\n",
       "      <td>SC</td>\n",
       "      <td>ElectionReturns_G16CountyTurnoutDemocrats</td>\n",
       "      <td>63</td>\n",
       "    </tr>\n",
       "    <tr>\n",
       "      <th>3</th>\n",
       "      <td>SC</td>\n",
       "      <td>ElectionReturns_G16CountyTurnoutDemocrats</td>\n",
       "      <td>57</td>\n",
       "    </tr>\n",
       "    <tr>\n",
       "      <th>4</th>\n",
       "      <td>SC</td>\n",
       "      <td>ElectionReturns_G16CountyTurnoutDemocrats</td>\n",
       "      <td>56</td>\n",
       "    </tr>\n",
       "  </tbody>\n",
       "</table>\n",
       "</div>"
      ],
      "text/plain": [
       "  State                                   variable  value\n",
       "0    SC  ElectionReturns_G16CountyTurnoutDemocrats     56\n",
       "1    SC  ElectionReturns_G16CountyTurnoutDemocrats     61\n",
       "2    SC  ElectionReturns_G16CountyTurnoutDemocrats     63\n",
       "3    SC  ElectionReturns_G16CountyTurnoutDemocrats     57\n",
       "4    SC  ElectionReturns_G16CountyTurnoutDemocrats     56"
      ]
     },
     "execution_count": 45,
     "metadata": {},
     "output_type": "execute_result"
    }
   ],
   "source": [
    "turnout_2016 = all_pd[[\"ElectionReturns_G16CountyTurnoutDemocrats\", \"ElectionReturns_G16CountyTurnoutRepublicans\", \"State\"]]\n",
    "turnout_2016 = pd.melt(turnout_2016, id_vars=\"State\", value_vars=[\"ElectionReturns_G16CountyTurnoutDemocrats\", \"ElectionReturns_G16CountyTurnoutRepublicans\"])\n",
    "turnout_2016.head()\n",
    "\n"
   ]
  },
  {
   "cell_type": "code",
   "execution_count": 46,
   "id": "182a751c-00aa-4f9f-b999-a318e0caff32",
   "metadata": {},
   "outputs": [
    {
     "data": {
      "text/plain": [
       "<matplotlib.legend.Legend at 0x7f0fd89a0cd0>"
      ]
     },
     "execution_count": 46,
     "metadata": {},
     "output_type": "execute_result"
    },
    {
     "data": {
      "image/png": "[encoded data removed]",
      "text/plain": [
       "<Figure size 640x480 with 1 Axes>"
      ]
     },
     "metadata": {},
     "output_type": "display_data"
    }
   ],
   "source": [
    "turnout_2016_plot = sns.boxplot(data=turnout_2016, x=\"value\", y=\"State\", hue=\"variable\")\n",
    "turnout_2016_plot.set(title=\"Democratic turnout at 2016 General Election\", xlabel=\"Percent Turnout\")\n",
    "turnout_2016_plot.set_xlim(25,100)\n",
    "plt.legend(bbox_to_anchor=(1.02, 1), loc='upper left', borderaxespad=0)"
   ]
  },
  {
   "cell_type": "code",
   "execution_count": null,
   "id": "c60ee031-f722-444a-8aa9-c90e8036aa2a",
   "metadata": {},
   "outputs": [],
   "source": []
  },
  {
   "cell_type": "code",
   "execution_count": 60,
   "id": "165eab5a-b827-4d32-9dc9-73249db19e4f",
   "metadata": {},
   "outputs": [],
   "source": [
    "mi_party_tot = mi_df.groupBy(\"Parties_Description\").count().sort(\"Parties_Description\")"
   ]
  },
  {
   "cell_type": "code",
   "execution_count": 88,
   "id": "3789e548-d464-4682-a8ab-ae0e0a5cae3b",
   "metadata": {},
   "outputs": [
    {
     "name": "stderr",
     "output_type": "stream",
     "text": [
      "[Stage 95:===============================================>        (11 + 2) / 13]\r"
     ]
    },
    {
     "name": "stdout",
     "output_type": "stream",
     "text": [
      "+-------------------+-------+\n",
      "|Parties_Description|  count|\n",
      "+-------------------+-------+\n",
      "|         Democratic|4164138|\n",
      "|       Non-Partisan|1388458|\n",
      "|         Republican|2041055|\n",
      "+-------------------+-------+\n",
      "\n"
     ]
    },
    {
     "name": "stderr",
     "output_type": "stream",
     "text": [
      "                                                                                \r"
     ]
    }
   ],
   "source": [
    "mi_party_tot.show()"
   ]
  },
  {
   "cell_type": "code",
   "execution_count": 107,
   "id": "91a5f576-0fad-45c3-b33e-411488a42689",
   "metadata": {},
   "outputs": [],
   "source": [
    "mi_vote_party = mi_df.groupBy(\"Parties_Description\", \"General_2020\").count().sort(\"Parties_Description\")"
   ]
  },
  {
   "cell_type": "code",
   "execution_count": 108,
   "id": "143b677a-3b7b-40f3-8378-56ac167a3e02",
   "metadata": {},
   "outputs": [
    {
     "name": "stderr",
     "output_type": "stream",
     "text": [
      "                                                                                \r"
     ]
    }
   ],
   "source": [
    "mi_dem_tot = mi_party_tot.filter(mi_party_tot.Parties_Description == \"Democratic\").head()[1]\n",
    "mi_np_tot = mi_party_tot.filter(mi_party_tot.Parties_Description == \"Non-Partisan\").head()[1]\n",
    "mi_rep_tot = mi_party_tot.filter(mi_party_tot.Parties_Description == \"Republican\").head()[1]"
   ]
  },
  {
   "cell_type": "code",
   "execution_count": 113,
   "id": "6f0df190-7f8b-4ea1-a968-c4af6be06f6a",
   "metadata": {},
   "outputs": [],
   "source": [
    "mi_vote_party = mi_vote_party.withColumn(\"Total_Voted_General_2020\", mi_vote_party[\"count\"])\n",
    "mi_vote_party = mi_vote_party.withColumn(\"Party_Total\", F.when(mi_vote_party.Parties_Description == \"Democratic\",\n",
    "                                                            mi_dem_tot)\n",
    "                                                        .when(mi_vote_party.Parties_Description == \"Non-Partisan\",\n",
    "                                                            mi_np_tot)\n",
    "                                                        .when(mi_vote_party.Parties_Description == \"Republican\",\n",
    "                                                            mi_rep_tot))\n",
    "\n",
    "mi_vote_party = mi_vote_party.withColumn(\"Percent_Voted\", F.round(mi_vote_party.Total_Voted_General_2020 / mi_vote_party.Party_Total, 3))\n",
    "mi_vote_party = mi_vote_party.withColumn(\"State\", F.lit(\"MI\"))\n",
    "mi_vote_party = mi_vote_party.drop(\"count\")\n",
    "\n",
    "mi_vote_party = mi_vote_party.filter(mi_vote_party.General_2020 == \"Y\").drop(\"General_2020\")"
   ]
  },
  {
   "cell_type": "code",
   "execution_count": 114,
   "id": "6a1c3f12-7f09-4472-8ca9-04282366af7e",
   "metadata": {},
   "outputs": [
    {
     "name": "stderr",
     "output_type": "stream",
     "text": [
      "[Stage 156:==================================================>    (12 + 1) / 13]\r"
     ]
    },
    {
     "name": "stdout",
     "output_type": "stream",
     "text": [
      "+-------------------+------------------------+-----------+-------------+-----+\n",
      "|Parties_Description|Total_Voted_General_2020|Party_Total|Percent_Voted|State|\n",
      "+-------------------+------------------------+-----------+-------------+-----+\n",
      "|         Democratic|                 2894091|    4164138|        0.695|   MI|\n",
      "|       Non-Partisan|                  763418|    1388458|         0.55|   MI|\n",
      "|         Republican|                 1738843|    2041055|        0.852|   MI|\n",
      "+-------------------+------------------------+-----------+-------------+-----+\n",
      "\n"
     ]
    },
    {
     "name": "stderr",
     "output_type": "stream",
     "text": [
      "                                                                                \r"
     ]
    }
   ],
   "source": [
    "mi_vote_party.show()"
   ]
  },
  {
   "cell_type": "code",
   "execution_count": 115,
   "id": "6a82454a-ea1a-480b-8f2a-32cd3287763e",
   "metadata": {},
   "outputs": [
    {
     "name": "stderr",
     "output_type": "stream",
     "text": [
      "[Stage 159:==================================================>    (12 + 1) / 13]\r"
     ]
    },
    {
     "name": "stdout",
     "output_type": "stream",
     "text": [
      "+------------+------------+\n",
      "|General_2020|Mean Land Sq|\n",
      "+------------+------------+\n",
      "|        null|    118865.3|\n",
      "|           Y|    143424.6|\n",
      "+------------+------------+\n",
      "\n"
     ]
    },
    {
     "name": "stderr",
     "output_type": "stream",
     "text": [
      "                                                                                \r"
     ]
    }
   ],
   "source": [
    "mi_df.groupBy(\"General_2020\").agg(F.round(F.mean(\"Residence_Addresses_Property_LandSq_Footage\"),1).alias(\"Mean Land SqFt\")).show()\n",
    "\n",
    "\n"
   ]
  },
  {
   "cell_type": "code",
   "execution_count": 116,
   "id": "2ee897c0-c658-4c24-ba03-09789b48ab71",
   "metadata": {},
   "outputs": [
    {
     "name": "stderr",
     "output_type": "stream",
     "text": [
      "[Stage 164:==============================================>        (11 + 2) / 13]\r"
     ]
    },
    {
     "name": "stdout",
     "output_type": "stream",
     "text": [
      "+------------+--------------+\n",
      "|General_2020|Mean Home SqFt|\n",
      "+------------+--------------+\n",
      "|        null|        1719.0|\n",
      "|           Y|        1885.9|\n",
      "+------------+--------------+\n",
      "\n"
     ]
    },
    {
     "name": "stderr",
     "output_type": "stream",
     "text": [
      "                                                                                \r"
     ]
    }
   ],
   "source": [
    "mi_df.groupBy(\"General_2020\").agg(F.round(F.mean(\"Residence_Addresses_Property_HomeSq_Footage\"),1).alias(\"Mean Home SqFt\")).show()\n"
   ]
  },
  {
   "cell_type": "code",
   "execution_count": 125,
   "id": "b60d3b88-82bb-41b6-8f1a-2186d7068cbf",
   "metadata": {},
   "outputs": [
    {
     "name": "stderr",
     "output_type": "stream",
     "text": [
      "                                                                                \r"
     ]
    },
    {
     "name": "stdout",
     "output_type": "stream",
     "text": [
      "+--------------------------+-------+\n",
      "|CommercialDataLL_Gun_Owner|  count|\n",
      "+--------------------------+-------+\n",
      "|                      null|6742405|\n",
      "|                       Yes| 851246|\n",
      "+--------------------------+-------+\n",
      "\n"
     ]
    },
    {
     "name": "stderr",
     "output_type": "stream",
     "text": [
      "                                                                                \r"
     ]
    }
   ],
   "source": [
    "guns_totals = mi_df.groupBy(\"CommercialDataLL_Gun_Owner\").count().sort(\"CommercialDataLL_Gun_Owner\")\n",
    "guns_totals.show()\n",
    "\n",
    "gun_owners = guns_totals.filter(guns_totals.CommercialDataLL_Gun_Owner == \"Yes\").head()[1]\n",
    "nongun_owners = guns_totals.head()[1]\n"
   ]
  },
  {
   "cell_type": "code",
   "execution_count": 127,
   "id": "447dfa06-6b46-443a-b9da-5e37d286c494",
   "metadata": {},
   "outputs": [
    {
     "data": {
      "text/plain": [
       "851246"
      ]
     },
     "execution_count": 127,
     "metadata": {},
     "output_type": "execute_result"
    }
   ],
   "source": [
    "gun_owners"
   ]
  },
  {
   "cell_type": "code",
   "execution_count": 134,
   "id": "3c2eaa2f-1d0f-4b9a-bc02-f1770e901bcc",
   "metadata": {},
   "outputs": [
    {
     "name": "stderr",
     "output_type": "stream",
     "text": [
      "[Stage 215:==============================================>        (11 + 2) / 13]\r"
     ]
    },
    {
     "name": "stdout",
     "output_type": "stream",
     "text": [
      "+--------------------------+------------------------+-------+------------+\n",
      "|CommercialDataLL_Gun_Owner|Total_Voted_General_2020|  Total|PercentVoted|\n",
      "+--------------------------+------------------------+-------+------------+\n",
      "|                      null|                 4653909|6742405|        0.69|\n",
      "|                       Yes|                  742443| 851246|        0.87|\n",
      "+--------------------------+------------------------+-------+------------+\n",
      "\n"
     ]
    },
    {
     "name": "stderr",
     "output_type": "stream",
     "text": [
      "                                                                                \r"
     ]
    }
   ],
   "source": [
    "mi_gun_table = mi_df.groupBy(\"CommercialDataLL_Gun_Owner\", \"General_2020\").count().sort(\"CommercialDataLL_Gun_Owner\")\n",
    "\n",
    "\n",
    "mi_gun_table = mi_gun_table.withColumn(\"Total_Voted_General_2020\", mi_gun_table[\"count\"])\n",
    "mi_gun_table = mi_gun_table.drop(\"count\")\n",
    "\n",
    "mi_gun_table = mi_gun_table.withColumn(\"Total\", F.when(mi_gun_table[\"CommercialDataLL_Gun_Owner\"] == \"Yes\", gun_owners)\n",
    "                                                  .otherwise(nongun_owners))\n",
    "\n",
    "mi_gun_table = mi_gun_table.withColumn(\"PercentVoted\", F.round(mi_gun_table.Total_Voted_General_2020 / mi_gun_table.Total, 2))\n",
    "\n",
    "mi_gun_table = mi_gun_table.filter(mi_gun_table.General_2020 == \"Y\")\n",
    "mi_gun_table = mi_gun_table.drop(\"General_2020\")\n",
    "\n",
    "mi_gun_table.show()"
   ]
  },
  {
   "cell_type": "code",
   "execution_count": 49,
   "id": "0548abef-0445-4f78-a555-ef28ececa651",
   "metadata": {},
   "outputs": [
    {
     "name": "stdout",
     "output_type": "stream",
     "text": [
      "root\n",
      " |-- SEQUENCE: string (nullable = true)\n",
      " |-- LALVOTERID: string (nullable = true)\n",
      " |-- Voters_Active: string (nullable = true)\n",
      " |-- Voters_StateVoterID: string (nullable = true)\n",
      " |-- Voters_CountyVoterID: string (nullable = true)\n",
      " |-- VoterTelephones_LandlineAreaCode: string (nullable = true)\n",
      " |-- VoterTelephones_Landline7Digit: string (nullable = true)\n",
      " |-- VoterTelephones_LandlineFormatted: string (nullable = true)\n",
      " |-- VoterTelephones_LandlineUnformatted: string (nullable = true)\n",
      " |-- VoterTelephones_LandlineConfidenceCode: string (nullable = true)\n",
      " |-- VoterTelephones_CellPhoneOnly: string (nullable = true)\n",
      " |-- VoterTelephones_CellPhoneFormatted: string (nullable = true)\n",
      " |-- VoterTelephones_CellPhoneUnformatted: string (nullable = true)\n",
      " |-- VoterTelephones_CellConfidenceCode: string (nullable = true)\n",
      " |-- Voters_FirstName: string (nullable = true)\n",
      " |-- Voters_MiddleName: string (nullable = true)\n",
      " |-- Voters_LastName: string (nullable = true)\n",
      " |-- Voters_NameSuffix: string (nullable = true)\n",
      " |-- Residence_Addresses_AddressLine: string (nullable = true)\n",
      " |-- Residence_Addresses_ExtraAddressLine: string (nullable = true)\n",
      " |-- Residence_Addresses_City: string (nullable = true)\n",
      " |-- Residence_Addresses_State: string (nullable = true)\n",
      " |-- Residence_Addresses_Zip: string (nullable = true)\n",
      " |-- Residence_Addresses_ZipPlus4: string (nullable = true)\n",
      " |-- Residence_Addresses_HouseNumber: string (nullable = true)\n",
      " |-- Residence_Addresses_PrefixDirection: string (nullable = true)\n",
      " |-- Residence_Addresses_StreetName: string (nullable = true)\n",
      " |-- Residence_Addresses_Designator: string (nullable = true)\n",
      " |-- Residence_Addresses_SuffixDirection: string (nullable = true)\n",
      " |-- Residence_Addresses_ApartmentNum: string (nullable = true)\n",
      " |-- Residence_Addresses_ApartmentType: string (nullable = true)\n",
      " |-- Residence_Addresses_CassErrStatCode: string (nullable = true)\n",
      " |-- Voters_SequenceZigZag: string (nullable = true)\n",
      " |-- Voters_SequenceOddEven: string (nullable = true)\n",
      " |-- Residence_Addresses_CensusTract: string (nullable = true)\n",
      " |-- Residence_Addresses_CensusBlockGroup: string (nullable = true)\n",
      " |-- Residence_Addresses_CensusBlock: string (nullable = true)\n",
      " |-- Residence_Addresses_Latitude: string (nullable = true)\n",
      " |-- Residence_Addresses_Longitude: string (nullable = true)\n",
      " |-- Residence_Addresses_LatLongAccuracy: string (nullable = true)\n",
      " |-- Residence_Addresses_Property_LandSq_Footage: string (nullable = true)\n",
      " |-- Residence_Addresses_Property_HomeSq_Footage: string (nullable = true)\n",
      " |-- Residence_Addresses_Density: string (nullable = true)\n",
      " |-- Residence_Families_FamilyID: string (nullable = true)\n",
      " |-- Residence_Families_HHCount: string (nullable = true)\n",
      " |-- Residence_HHGender_Description: string (nullable = true)\n",
      " |-- Residence_HHParties_Description: string (nullable = true)\n",
      " |-- Mailing_Addresses_AddressLine: string (nullable = true)\n",
      " |-- Mailing_Addresses_ExtraAddressLine: string (nullable = true)\n",
      " |-- Mailing_Addresses_City: string (nullable = true)\n",
      " |-- Mailing_Addresses_State: string (nullable = true)\n",
      " |-- Mailing_Addresses_Zip: string (nullable = true)\n",
      " |-- Mailing_Addresses_ZipPlus4: string (nullable = true)\n",
      " |-- Mailing_Addresses_HouseNumber: string (nullable = true)\n",
      " |-- Mailing_Addresses_PrefixDirection: string (nullable = true)\n",
      " |-- Mailing_Addresses_StreetName: string (nullable = true)\n",
      " |-- Mailing_Addresses_Designator: string (nullable = true)\n",
      " |-- Mailing_Addresses_SuffixDirection: string (nullable = true)\n",
      " |-- Mailing_Addresses_ApartmentNum: string (nullable = true)\n",
      " |-- Mailing_Addresses_ApartmentType: string (nullable = true)\n",
      " |-- Mailing_Addresses_CassErrStatCode: string (nullable = true)\n",
      " |-- Mailing_Families_FamilyID: string (nullable = true)\n",
      " |-- Mailing_Families_HHCount: string (nullable = true)\n",
      " |-- Mailing_HHGender_Description: string (nullable = true)\n",
      " |-- Mailing_HHParties_Description: string (nullable = true)\n",
      " |-- Voters_Gender: string (nullable = true)\n",
      " |-- Voters_Age: string (nullable = true)\n",
      " |-- Voters_BirthDate: string (nullable = true)\n",
      " |-- DateConfidence_Description: string (nullable = true)\n",
      " |-- Parties_Description: string (nullable = true)\n",
      " |-- VoterParties_Change_Changed_Party: string (nullable = true)\n",
      " |-- Ethnic_Description: string (nullable = true)\n",
      " |-- EthnicGroups_EthnicGroup1Desc: string (nullable = true)\n",
      " |-- CountyEthnic_LALEthnicCode: string (nullable = true)\n",
      " |-- CountyEthnic_Description: string (nullable = true)\n",
      " |-- Religions_Description: string (nullable = true)\n",
      " |-- Voters_CalculatedRegDate: string (nullable = true)\n",
      " |-- Voters_OfficialRegDate: string (nullable = true)\n",
      " |-- Voters_PlaceOfBirth: string (nullable = true)\n",
      " |-- Languages_Description: string (nullable = true)\n",
      " |-- AbsenteeTypes_Description: string (nullable = true)\n",
      " |-- MilitaryStatus_Description: string (nullable = true)\n",
      " |-- MaritalStatus_Description: string (nullable = true)\n",
      " |-- US_Congressional_District: string (nullable = true)\n",
      " |-- AddressDistricts_Change_Changed_CD: string (nullable = true)\n",
      " |-- State_Senate_District: string (nullable = true)\n",
      " |-- AddressDistricts_Change_Changed_SD: string (nullable = true)\n",
      " |-- State_House_District: string (nullable = true)\n",
      " |-- AddressDistricts_Change_Changed_HD: string (nullable = true)\n",
      " |-- State_Legislative_District: string (nullable = true)\n",
      " |-- AddressDistricts_Change_Changed_LD: string (nullable = true)\n",
      " |-- 2001_US_Congressional_District: string (nullable = true)\n",
      " |-- 2001_State_Senate_District: string (nullable = true)\n",
      " |-- 2001_State_House_District: string (nullable = true)\n",
      " |-- 2001_State_Legislative_District: string (nullable = true)\n",
      " |-- County: string (nullable = true)\n",
      " |-- Voters_FIPS: string (nullable = true)\n",
      " |-- AddressDistricts_Change_Changed_County: string (nullable = true)\n",
      " |-- Precinct: string (nullable = true)\n",
      " |-- County_Commissioner_District: string (nullable = true)\n",
      " |-- County_Supervisorial_District: string (nullable = true)\n",
      " |-- County_Legislative_District: string (nullable = true)\n",
      " |-- City: string (nullable = true)\n",
      " |-- City_Council_Commissioner_District: string (nullable = true)\n",
      " |-- City_Ward: string (nullable = true)\n",
      " |-- City_Mayoral_District: string (nullable = true)\n",
      " |-- Town_District: string (nullable = true)\n",
      " |-- Town_Ward: string (nullable = true)\n",
      " |-- Town_Council: string (nullable = true)\n",
      " |-- Village: string (nullable = true)\n",
      " |-- Village_Ward: string (nullable = true)\n",
      " |-- Township: string (nullable = true)\n",
      " |-- Township_Ward: string (nullable = true)\n",
      " |-- Borough: string (nullable = true)\n",
      " |-- Borough_Ward: string (nullable = true)\n",
      " |-- Hamlet_Community_Area: string (nullable = true)\n",
      " |-- 4H_Livestock_District: string (nullable = true)\n",
      " |-- Airport_District: string (nullable = true)\n",
      " |-- Annexation_District: string (nullable = true)\n",
      " |-- Aquatic_Center_District: string (nullable = true)\n",
      " |-- Aquatic_District: string (nullable = true)\n",
      " |-- Assessment_District: string (nullable = true)\n",
      " |-- Bay_Area_Rapid_Transit: string (nullable = true)\n",
      " |-- Board_of_Education_District: string (nullable = true)\n",
      " |-- Board_of_Education_SubDistrict: string (nullable = true)\n",
      " |-- Bonds_District: string (nullable = true)\n",
      " |-- Career_Center: string (nullable = true)\n",
      " |-- Cemetery_District: string (nullable = true)\n",
      " |-- Central_Committee_District: string (nullable = true)\n",
      " |-- Chemical_Control_District: string (nullable = true)\n",
      " |-- City_School_District: string (nullable = true)\n",
      " |-- Coast_Water_District: string (nullable = true)\n",
      " |-- College_Board_District: string (nullable = true)\n",
      " |-- Committee_Super_District: string (nullable = true)\n",
      " |-- Communications_District: string (nullable = true)\n",
      " |-- Community_College: string (nullable = true)\n",
      " |-- Community_College_Commissioner_District: string (nullable = true)\n",
      " |-- Community_College_SubDistrict: string (nullable = true)\n",
      " |-- Community_College_At_Large: string (nullable = true)\n",
      " |-- Community_Council_District: string (nullable = true)\n",
      " |-- Community_Council_SubDistrict: string (nullable = true)\n",
      " |-- Community_Facilities_District: string (nullable = true)\n",
      " |-- Community_Facilities_SubDistrict: string (nullable = true)\n",
      " |-- Community_Hospital_District: string (nullable = true)\n",
      " |-- Community_Planning_Area: string (nullable = true)\n",
      " |-- Community_Service_District: string (nullable = true)\n",
      " |-- Community_Service_SubDistrict: string (nullable = true)\n",
      " |-- Congressional_Township: string (nullable = true)\n",
      " |-- Conservation_District: string (nullable = true)\n",
      " |-- Conservation_SubDistrict: string (nullable = true)\n",
      " |-- Consolidated_Water_District: string (nullable = true)\n",
      " |-- Control_Zone_District: string (nullable = true)\n",
      " |-- Corrections_District: string (nullable = true)\n",
      " |-- County_Board_of_Education_District: string (nullable = true)\n",
      " |-- County_Board_of_Education_SubDistrict: string (nullable = true)\n",
      " |-- County_Community_College_District: string (nullable = true)\n",
      " |-- County_Fire_District: string (nullable = true)\n",
      " |-- County_Hospital_District: string (nullable = true)\n",
      " |-- County_Library_District: string (nullable = true)\n",
      " |-- County_Memorial_District: string (nullable = true)\n",
      " |-- County_Paramedic_District: string (nullable = true)\n",
      " |-- County_Service_Area: string (nullable = true)\n",
      " |-- County_Service_Area_SubDistrict: string (nullable = true)\n",
      " |-- County_Sewer_District: string (nullable = true)\n",
      " |-- County_Superintendent_of_Schools_District: string (nullable = true)\n",
      " |-- County_Unified_School_District: string (nullable = true)\n",
      " |-- County_Water_District: string (nullable = true)\n",
      " |-- County_Water_Landowner_District: string (nullable = true)\n",
      " |-- County_Water_SubDistrict: string (nullable = true)\n",
      " |-- Democratic_Convention_Member: string (nullable = true)\n",
      " |-- Democratic_Zone: string (nullable = true)\n",
      " |-- Designated_Market_Area_DMA: string (nullable = true)\n",
      " |-- District_Attorney: string (nullable = true)\n",
      " |-- Drainage_District: string (nullable = true)\n",
      " |-- Education_Commission_District: string (nullable = true)\n",
      " |-- Educational_Service_District: string (nullable = true)\n",
      " |-- Educational_Service_Subdistrict: string (nullable = true)\n",
      " |-- Election_Commissioner_District: string (nullable = true)\n",
      " |-- Elementary_School_District: string (nullable = true)\n",
      " |-- Elementary_School_SubDistrict: string (nullable = true)\n",
      " |-- Emergency_Communication_911_District: string (nullable = true)\n",
      " |-- Emergency_Communication_911_SubDistrict: string (nullable = true)\n",
      " |-- Enterprise_Zone_District: string (nullable = true)\n",
      " |-- Exempted_Village_School_District: string (nullable = true)\n",
      " |-- EXT_District: string (nullable = true)\n",
      " |-- Facilities_Improvement_District: string (nullable = true)\n",
      " |-- Fire_District: string (nullable = true)\n",
      " |-- Fire_Maintenance_District: string (nullable = true)\n",
      " |-- Fire_Protection_District: string (nullable = true)\n",
      " |-- Fire_Protection_SubDistrict: string (nullable = true)\n",
      " |-- Fire_Protection_Tax_Measure_District: string (nullable = true)\n",
      " |-- Fire_Service_Area_District: string (nullable = true)\n",
      " |-- Fire_SubDistrict: string (nullable = true)\n",
      " |-- Flood_Control_Zone: string (nullable = true)\n",
      " |-- Forest_Preserve: string (nullable = true)\n",
      " |-- Garbage_District: string (nullable = true)\n",
      " |-- Geological_Hazard_Abatement_District: string (nullable = true)\n",
      " |-- Health_District: string (nullable = true)\n",
      " |-- High_School_District: string (nullable = true)\n",
      " |-- High_School_SubDistrict: string (nullable = true)\n",
      " |-- Hospital_District: string (nullable = true)\n",
      " |-- Hospital_SubDistrict: string (nullable = true)\n",
      " |-- Improvement_Landowner_District: string (nullable = true)\n",
      " |-- Independent_Fire_District: string (nullable = true)\n",
      " |-- Irrigation_District: string (nullable = true)\n",
      " |-- Irrigation_SubDistrict: string (nullable = true)\n",
      " |-- Island: string (nullable = true)\n",
      " |-- Judicial_Appellate_District: string (nullable = true)\n",
      " |-- Judicial_Chancery_Court: string (nullable = true)\n",
      " |-- Judicial_Circuit_Court_District: string (nullable = true)\n",
      " |-- Judicial_County_Board_of_Review_District: string (nullable = true)\n",
      " |-- Judicial_County_Court_District: string (nullable = true)\n",
      " |-- Judicial_District: string (nullable = true)\n",
      " |-- Judicial_District_Court_District: string (nullable = true)\n",
      " |-- Judicial_Family_Court_District: string (nullable = true)\n",
      " |-- Judicial_Jury_District: string (nullable = true)\n",
      " |-- Judicial_Juvenile_Court_District: string (nullable = true)\n",
      " |-- Judicial_Magistrate_Division: string (nullable = true)\n",
      " |-- Judicial_Sub_Circuit_District: string (nullable = true)\n",
      " |-- Judicial_Superior_Court_District: string (nullable = true)\n",
      " |-- Judicial_Supreme_Court_District: string (nullable = true)\n",
      " |-- Justice_of_the_Peace: string (nullable = true)\n",
      " |-- Land_Commission: string (nullable = true)\n",
      " |-- Landscaping_And_Lighting_Assessment_Distric: string (nullable = true)\n",
      " |-- Law_Enforcement_District: string (nullable = true)\n",
      " |-- Learning_Community_Coordinating_Council_District: string (nullable = true)\n",
      " |-- Levee_District: string (nullable = true)\n",
      " |-- Levee_Reconstruction_Assesment_District: string (nullable = true)\n",
      " |-- Library_District: string (nullable = true)\n",
      " |-- Library_Services_District: string (nullable = true)\n",
      " |-- Library_SubDistrict: string (nullable = true)\n",
      " |-- Lighting_District: string (nullable = true)\n",
      " |-- Local_Hospital_District: string (nullable = true)\n",
      " |-- Local_Park_District: string (nullable = true)\n",
      " |-- Maintenance_District: string (nullable = true)\n",
      " |-- Master_Plan_District: string (nullable = true)\n",
      " |-- Memorial_District: string (nullable = true)\n",
      " |-- Metro_Service_District: string (nullable = true)\n",
      " |-- Metro_Service_Subdistrict: string (nullable = true)\n",
      " |-- Metro_Transit_District: string (nullable = true)\n",
      " |-- Metropolitan_Water_District: string (nullable = true)\n",
      " |-- Middle_School_District: string (nullable = true)\n",
      " |-- Mosquito_Abatement_District: string (nullable = true)\n",
      " |-- Mountain_Water_District: string (nullable = true)\n",
      " |-- Multi_township_Assessor: string (nullable = true)\n",
      " |-- Municipal_Advisory_Council_District: string (nullable = true)\n",
      " |-- Municipal_Court_District: string (nullable = true)\n",
      " |-- Municipal_Utility_District: string (nullable = true)\n",
      " |-- Municipal_Utility_SubDistrict: string (nullable = true)\n",
      " |-- Municipal_Water_District: string (nullable = true)\n",
      " |-- Municipal_Water_SubDistrict: string (nullable = true)\n",
      " |-- Museum_District: string (nullable = true)\n",
      " |-- Northeast_Soil_and_Water_District: string (nullable = true)\n",
      " |-- Open_Space_District: string (nullable = true)\n",
      " |-- Open_Space_SubDistrict: string (nullable = true)\n",
      " |-- Other: string (nullable = true)\n",
      " |-- Paramedic_District: string (nullable = true)\n",
      " |-- Park_Commissioner_District: string (nullable = true)\n",
      " |-- Park_District: string (nullable = true)\n",
      " |-- Park_SubDistrict: string (nullable = true)\n",
      " |-- Planning_Area_District: string (nullable = true)\n",
      " |-- Police_District: string (nullable = true)\n",
      " |-- Port_District: string (nullable = true)\n",
      " |-- Port_SubDistrict: string (nullable = true)\n",
      " |-- Power_District: string (nullable = true)\n",
      " |-- Proposed_City: string (nullable = true)\n",
      " |-- Proposed_City_Commissioner_District: string (nullable = true)\n",
      " |-- Proposed_Community_College: string (nullable = true)\n",
      " |-- Proposed_District: string (nullable = true)\n",
      " |-- Proposed_Elementary_School_District: string (nullable = true)\n",
      " |-- Proposed_Fire_District: string (nullable = true)\n",
      " |-- Proposed_Unified_School_District: string (nullable = true)\n",
      " |-- Public_Airport_District: string (nullable = true)\n",
      " |-- Public_Regulation_Commission: string (nullable = true)\n",
      " |-- Public_Service_Commission_District: string (nullable = true)\n",
      " |-- Public_Utility_District: string (nullable = true)\n",
      " |-- Public_Utility_SubDistrict: string (nullable = true)\n",
      " |-- Rapid_Transit_District: string (nullable = true)\n",
      " |-- Rapid_Transit_SubDistrict: string (nullable = true)\n",
      " |-- Reclamation_District: string (nullable = true)\n",
      " |-- Recreation_District: string (nullable = true)\n",
      " |-- Recreational_SubDistrict: string (nullable = true)\n",
      " |-- Regional_Office_of_Education_District: string (nullable = true)\n",
      " |-- Republican_Area: string (nullable = true)\n",
      " |-- Republican_Convention_Member: string (nullable = true)\n",
      " |-- Resort_Improvement_District: string (nullable = true)\n",
      " |-- Resource_Conservation_District: string (nullable = true)\n",
      " |-- River_Water_District: string (nullable = true)\n",
      " |-- Road_Maintenance_District: string (nullable = true)\n",
      " |-- Rural_Service_District: string (nullable = true)\n",
      " |-- Sanitary_District: string (nullable = true)\n",
      " |-- Sanitary_SubDistrict: string (nullable = true)\n",
      " |-- School_Board_District: string (nullable = true)\n",
      " |-- School_District: string (nullable = true)\n",
      " |-- School_District_Vocational: string (nullable = true)\n",
      " |-- School_Facilities_Improvement_District: string (nullable = true)\n",
      " |-- School_Subdistrict: string (nullable = true)\n",
      " |-- Service_Area_District: string (nullable = true)\n",
      " |-- Sewer_District: string (nullable = true)\n",
      " |-- Sewer_Maintenance_District: string (nullable = true)\n",
      " |-- Sewer_SubDistrict: string (nullable = true)\n",
      " |-- Snow_Removal_District: string (nullable = true)\n",
      " |-- Soil_And_Water_District: string (nullable = true)\n",
      " |-- Soil_And_Water_District_At_Large: string (nullable = true)\n",
      " |-- Special_Reporting_District: string (nullable = true)\n",
      " |-- Special_Tax_District: string (nullable = true)\n",
      " |-- State_Board_of_Equalization: string (nullable = true)\n",
      " |-- Storm_Water_District: string (nullable = true)\n",
      " |-- Street_Lighting_District: string (nullable = true)\n",
      " |-- Superintendent_of_Schools_District: string (nullable = true)\n",
      " |-- Transit_District: string (nullable = true)\n",
      " |-- Transit_SubDistrict: string (nullable = true)\n",
      " |-- TriCity_Service_District: string (nullable = true)\n",
      " |-- TV_Translator_District: string (nullable = true)\n",
      " |-- Unified_School_District: string (nullable = true)\n",
      " |-- Unified_School_SubDistrict: string (nullable = true)\n",
      " |-- Unincorporated_District: string (nullable = true)\n",
      " |-- Unincorporated_Park_District: string (nullable = true)\n",
      " |-- Unprotected_Fire_District: string (nullable = true)\n",
      " |-- Ute_Creek_Soil_District: string (nullable = true)\n",
      " |-- Vector_Control_District: string (nullable = true)\n",
      " |-- Vote_By_Mail_Area: string (nullable = true)\n",
      " |-- Wastewater_District: string (nullable = true)\n",
      " |-- Water_Agency: string (nullable = true)\n",
      " |-- Water_Agency_SubDistrict: string (nullable = true)\n",
      " |-- Water_Conservation_District: string (nullable = true)\n",
      " |-- Water_Conservation_SubDistrict: string (nullable = true)\n",
      " |-- Water_Control__Water_Conservation: string (nullable = true)\n",
      " |-- Water_Control__Water_Conservation_SubDistrict: string (nullable = true)\n",
      " |-- Water_District: string (nullable = true)\n",
      " |-- Water_Public_Utility_District: string (nullable = true)\n",
      " |-- Water_Public_Utility_Subdistrict: string (nullable = true)\n",
      " |-- Water_Replacement_District: string (nullable = true)\n",
      " |-- Water_Replacement_SubDistrict: string (nullable = true)\n",
      " |-- Water_SubDistrict: string (nullable = true)\n",
      " |-- Weed_District: string (nullable = true)\n",
      " |-- CommercialData_BookBuyerInHome: string (nullable = true)\n",
      " |-- CommercialData_ComputerOwnerInHome: string (nullable = true)\n",
      " |-- CommercialData_CulinaryInterestMagazineInHome: string (nullable = true)\n",
      " |-- CommercialData_DoItYourselferMagazineInHome: string (nullable = true)\n",
      " |-- CommercialData_DonatesEnvironmentCauseInHome: string (nullable = true)\n",
      " |-- CommercialData_DonatesToCharityInHome: string (nullable = true)\n",
      " |-- CommercialData_DwellingType: string (nullable = true)\n",
      " |-- CommercialData_DwellingUnitSize: string (nullable = true)\n",
      " |-- CommercialData_Education: string (nullable = true)\n",
      " |-- CommercialData_EstHomeValue: string (nullable = true)\n",
      " |-- CommercialData_EstimatedHHIncome: string (nullable = true)\n",
      " |-- CommercialData_EstimatedHHIncomeAmount: string (nullable = true)\n",
      " |-- CommercialData_EstimatedAreaMedianHHIncome: string (nullable = true)\n",
      " |-- CommercialData_FamilyMagazineInHome: string (nullable = true)\n",
      " |-- CommercialData_FemaleOrientedMagazineInHome: string (nullable = true)\n",
      " |-- CommercialData_FinancialMagazineInHome: string (nullable = true)\n",
      " |-- CommercialData_GardeningMagazineInHome: string (nullable = true)\n",
      " |-- CommercialData_HealthFitnessMagazineInHome: string (nullable = true)\n",
      " |-- CommercialData_HHComposition: string (nullable = true)\n",
      " |-- CommercialData_HomePurchaseDate: string (nullable = true)\n",
      " |-- CommercialData_HomePurchasePrice: string (nullable = true)\n",
      " |-- CommercialData_ISPSA: string (nullable = true)\n",
      " |-- CommercialData_LandValue: string (nullable = true)\n",
      " |-- CommercialData_LikelyUnion: string (nullable = true)\n",
      " |-- CommercialData_AreaMedianEducationYears: string (nullable = true)\n",
      " |-- CommercialData_AreaMedianHousingValue: string (nullable = true)\n",
      " |-- CommercialData_MosaicZ4: string (nullable = true)\n",
      " |-- CommercialData_MosaicZ4Global: string (nullable = true)\n",
      " |-- CommercialData_Occupation: string (nullable = true)\n",
      " |-- CommercialData_OccupationGroup: string (nullable = true)\n",
      " |-- CommercialData_OccupationIndustry: string (nullable = true)\n",
      " |-- CommercialData_AreaPcntHHMarriedCoupleNoChild: string (nullable = true)\n",
      " |-- CommercialData_AreaPcntHHMarriedCoupleWithChild: string (nullable = true)\n",
      " |-- CommercialData_AreaPcntHHSpanishSpeaking: string (nullable = true)\n",
      " |-- CommercialData_AreaPcntHHWithChildren: string (nullable = true)\n",
      " |-- CommercialData_PoliticalContributerInHome: string (nullable = true)\n",
      " |-- CommercialData_PresenceOfChildrenCode: string (nullable = true)\n",
      " |-- CommercialData_PresenceOfPremCredCrdInHome: string (nullable = true)\n",
      " |-- CommercialData_PropertyType: string (nullable = true)\n",
      " |-- CommercialData_ReligiousContributorInHome: string (nullable = true)\n",
      " |-- CommercialData_ReligiousMagazineInHome: string (nullable = true)\n",
      " |-- CommercialData_StateIncomeDecile: string (nullable = true)\n",
      " |-- CommercialData_UpscaleBuyerInHome: string (nullable = true)\n",
      " |-- CommercialData_UpscaleFemaleBuyerInHome: string (nullable = true)\n",
      " |-- CommercialData_UpscaleMaleBuyerInHome: string (nullable = true)\n",
      " |-- CommercialDataLL_Business_Owner: string (nullable = true)\n",
      " |-- CommercialDataLL_Buyer_Antiques_In_Household: string (nullable = true)\n",
      " |-- CommercialDataLL_Buyer_Art_In_Household: string (nullable = true)\n",
      " |-- CommercialDataLL_Collector_Antiques_In_Household: string (nullable = true)\n",
      " |-- CommercialDataLL_Collector_Arts_In_Household: string (nullable = true)\n",
      " |-- CommercialDataLL_Collector_Avid_In_Household: string (nullable = true)\n",
      " |-- CommercialDataLL_Collector_Coins_In_Household: string (nullable = true)\n",
      " |-- CommercialDataLL_Collector_General_In_Household: string (nullable = true)\n",
      " |-- CommercialDataLL_Collector_Military_In_Household: string (nullable = true)\n",
      " |-- CommercialDataLL_Collector_Sports_In_Household: string (nullable = true)\n",
      " |-- CommercialDataLL_Collector_Stamps_In_Household: string (nullable = true)\n",
      " |-- CommercialDataLL_Donates_to_Animal_Welfare: string (nullable = true)\n",
      " |-- CommercialDataLL_Donates_to_Arts_and_Culture: string (nullable = true)\n",
      " |-- CommercialDataLL_Donates_to_Childrens_Causes: string (nullable = true)\n",
      " |-- CommercialDataLL_Donates_to_Conservative_Causes: string (nullable = true)\n",
      " |-- CommercialDataLL_Donates_to_Healthcare: string (nullable = true)\n",
      " |-- CommercialDataLL_Donates_to_International_Aid_Causes: string (nullable = true)\n",
      " |-- CommercialDataLL_Donates_to_Liberal_Causes: string (nullable = true)\n",
      " |-- CommercialDataLL_Donates_to_Local_Community: string (nullable = true)\n",
      " |-- CommercialDataLL_Donates_to_Veterans_Causes: string (nullable = true)\n",
      " |-- CommercialDataLL_Donates_to_Wildlife_Preservation: string (nullable = true)\n",
      " |-- CommercialDataLL_Gun_Owner: string (nullable = true)\n",
      " |-- CommercialDataLL_Gun_Owner_Concealed_Permit: string (nullable = true)\n",
      " |-- CommercialDataLL_Hispanic_Country_Origin: string (nullable = true)\n",
      " |-- CommercialDataLL_Home_Office: string (nullable = true)\n",
      " |-- CommercialDataLL_Home_Owner_Or_Renter: string (nullable = true)\n",
      " |-- CommercialDataLL_Household_Primary_Language: string (nullable = true)\n",
      " |-- CommercialDataLL_Interest_in_Auto_Work_In_Household: string (nullable = true)\n",
      " |-- CommercialDataLL_Interest_in_Automotive_Parts_Accessories_In_Household: string (nullable = true)\n",
      " |-- CommercialDataLL_Interest_in_Aviation_In_Household: string (nullable = true)\n",
      " |-- CommercialDataLL_Interest_in_BoardGames_Puzzles_In_Household: string (nullable = true)\n",
      " |-- CommercialDataLL_Interest_in_Boating_Sailing_In_Household: string (nullable = true)\n",
      " |-- CommercialDataLL_Interest_in_Camping_Hiking_In_Household: string (nullable = true)\n",
      " |-- CommercialDataLL_Interest_in_Cooking_General_In_Household: string (nullable = true)\n",
      " |-- CommercialDataLL_Interest_in_Cooking_Gourmet_In_Household: string (nullable = true)\n",
      " |-- CommercialDataLL_Interest_in_Crafts_In_Household: string (nullable = true)\n",
      " |-- CommercialDataLL_Interest_in_Current_Affairs_Politics_In_Household: string (nullable = true)\n",
      " |-- CommercialDataLL_Interest_in_Education_Online_In_Household: string (nullable = true)\n",
      " |-- CommercialDataLL_Interest_in_Electronic_Gaming_In_Household: string (nullable = true)\n",
      " |-- CommercialDataLL_Interest_in_Exercise_Aerobic_In_Household: string (nullable = true)\n",
      " |-- CommercialDataLL_Interest_in_Exercise_Health_In_Household: string (nullable = true)\n",
      " |-- CommercialDataLL_Interest_in_Exercise_Running_Jogging_In_Household: string (nullable = true)\n",
      " |-- CommercialDataLL_Interest_in_Exercise_Walking_In_Household: string (nullable = true)\n",
      " |-- CommercialDataLL_Interest_in_Fishing_In_Household: string (nullable = true)\n",
      " |-- CommercialDataLL_Interest_in_Food_Wines_In_Household: string (nullable = true)\n",
      " |-- CommercialDataLL_Interest_in_Foods_Natural_In_Household: string (nullable = true)\n",
      " |-- CommercialDataLL_Interest_in_Gaming_Casino_In_Household: string (nullable = true)\n",
      " |-- CommercialDataLL_Interest_in_Gardening_In_Household: string (nullable = true)\n",
      " |-- CommercialDataLL_Interest_in_Golf_In_Household: string (nullable = true)\n",
      " |-- CommercialDataLL_Interest_in_History_Military_In_Household: string (nullable = true)\n",
      " |-- CommercialDataLL_Interest_in_Home_Furnishings_In_Household: string (nullable = true)\n",
      " |-- CommercialDataLL_Interest_in_Home_Improvement_In_Household: string (nullable = true)\n",
      " |-- CommercialDataLL_Interest_in_Home_Repair_In_Household: string (nullable = true)\n",
      " |-- CommercialDataLL_Interest_in_House_Plants_In_Household: string (nullable = true)\n",
      " |-- CommercialDataLL_Interest_in_Hunting_In_Household: string (nullable = true)\n",
      " |-- CommercialDataLL_Interest_in_Motorcycling_In_Household: string (nullable = true)\n",
      " |-- CommercialDataLL_Interest_in_Musical_Instruments_In_Household: string (nullable = true)\n",
      " |-- CommercialDataLL_Interest_in_Nascar_In_Household: string (nullable = true)\n",
      " |-- CommercialDataLL_Interest_in_Photography_In_Household: string (nullable = true)\n",
      " |-- CommercialDataLL_Interest_in_Photography_Video_In_Household: string (nullable = true)\n",
      " |-- CommercialDataLL_Interest_in_Religious_Inspirational_In_Household: string (nullable = true)\n",
      " |-- CommercialDataLL_Interest_in_Science_Space_In_Household: string (nullable = true)\n",
      " |-- CommercialDataLL_Interest_in_Scuba_Diving_In_Household: string (nullable = true)\n",
      " |-- CommercialDataLL_Interest_in_Sewing_Knitting_In_Household: string (nullable = true)\n",
      " |-- CommercialDataLL_Interest_in_Shooting_In_Household: string (nullable = true)\n",
      " |-- CommercialDataLL_Interest_in_Smoking_In_Household: string (nullable = true)\n",
      " |-- CommercialDataLL_Interest_in_Snow_Skiing_In_Household: string (nullable = true)\n",
      " |-- CommercialDataLL_Interest_in_SpectatorSports_Auto_Racing_In_Household: string (nullable = true)\n",
      " |-- CommercialDataLL_Interest_in_SpectatorSports_Baseball_In_Household: string (nullable = true)\n",
      " |-- CommercialDataLL_Interest_in_SpectatorSports_Basketball_In_Household: string (nullable = true)\n",
      " |-- CommercialDataLL_Interest_in_SpectatorSports_Football_In_Household: string (nullable = true)\n",
      " |-- CommercialDataLL_Interest_in_SpectatorSports_Hockey_In_Household: string (nullable = true)\n",
      " |-- CommercialDataLL_Interest_in_SpectatorSports_on_TV_In_Household: string (nullable = true)\n",
      " |-- CommercialDataLL_Interest_in_SpectatorSports_Soccer_In_Household: string (nullable = true)\n",
      " |-- CommercialDataLL_Interest_in_Sports_Leisure_In_Household: string (nullable = true)\n",
      " |-- CommercialDataLL_Interest_in_Sweepstakes_Contests_In_Household: string (nullable = true)\n",
      " |-- CommercialDataLL_Interest_in_Tennis_In_Household: string (nullable = true)\n",
      " |-- CommercialDataLL_Interest_in_the_Arts_In_Household: string (nullable = true)\n",
      " |-- CommercialDataLL_Interest_in_Theater_Performing_Arts_In_Household: string (nullable = true)\n",
      " |-- CommercialDataLL_Interest_in_Travel_Cruise_In_Household: string (nullable = true)\n",
      " |-- CommercialDataLL_Interest_in_Travel_Domestic_In_Household: string (nullable = true)\n",
      " |-- CommercialDataLL_Interest_in_Travel_International_In_Household: string (nullable = true)\n",
      " |-- CommercialDataLL_Interest_in_Woodworking_In_Household: string (nullable = true)\n",
      " |-- CommercialDataLL_Investor: string (nullable = true)\n",
      " |-- CommercialDataLL_HH_Net_Worth: string (nullable = true)\n",
      " |-- CommercialDataLL_PetOwner_Cat: string (nullable = true)\n",
      " |-- CommercialDataLL_PetOwner_Dog: string (nullable = true)\n",
      " |-- CommercialDataLL_PetOwner_Horse: string (nullable = true)\n",
      " |-- CommercialDataLL_PetOwner_Other: string (nullable = true)\n",
      " |-- CommercialDataLL_Veteran: string (nullable = true)\n",
      " |-- ElectionReturns_G08_Cnty_Margin_McCain_R: string (nullable = true)\n",
      " |-- ElectionReturns_G08_Cnty_Percent_McCain_R: string (nullable = true)\n",
      " |-- ElectionReturns_G08_Cnty_Vote_McCain_R: string (nullable = true)\n",
      " |-- ElectionReturns_G08_Cnty_Margin_Obama_D: string (nullable = true)\n",
      " |-- ElectionReturns_G08_Cnty_Percent_Obama_D: string (nullable = true)\n",
      " |-- ElectionReturns_G08_Cnty_Vote_Obama_D: string (nullable = true)\n",
      " |-- ElectionReturns_G08CountyTurnoutAllRegisteredVoters: string (nullable = true)\n",
      " |-- ElectionReturns_G08CountyTurnoutDemocrats: string (nullable = true)\n",
      " |-- ElectionReturns_G08CountyTurnoutIndependentsAllOthers: string (nullable = true)\n",
      " |-- ElectionReturns_G08CountyTurnoutRepublicans: string (nullable = true)\n",
      " |-- ElectionReturns_G08PrecinctTurnoutAllRegisteredVoters: string (nullable = true)\n",
      " |-- ElectionReturns_G08PrecinctTurnoutDemocrats: string (nullable = true)\n",
      " |-- ElectionReturns_G08PrecinctTurnoutIndependentsAllOthers: string (nullable = true)\n",
      " |-- ElectionReturns_G08PrecinctTurnoutRepublicans: string (nullable = true)\n",
      " |-- ElectionReturns_G10CountyTurnoutAllRegisteredVoters: string (nullable = true)\n",
      " |-- ElectionReturns_G10CountyTurnoutDemocrats: string (nullable = true)\n",
      " |-- ElectionReturns_G10CountyTurnoutIndependentsAllOthers: string (nullable = true)\n",
      " |-- ElectionReturns_G10CountyTurnoutRepublicans: string (nullable = true)\n",
      " |-- ElectionReturns_G10PrecinctTurnoutAllRegisteredVoters: string (nullable = true)\n",
      " |-- ElectionReturns_G10PrecinctTurnoutDemocrats: string (nullable = true)\n",
      " |-- ElectionReturns_G10PrecinctTurnoutIndependentsAllOthers: string (nullable = true)\n",
      " |-- ElectionReturns_G10PrecinctTurnoutRepublicans: string (nullable = true)\n",
      " |-- ElectionReturns_G12_Cnty_Margin_Obama_D: string (nullable = true)\n",
      " |-- ElectionReturns_G12_Cnty_Percent_Obama_D: string (nullable = true)\n",
      " |-- ElectionReturns_G12_Cnty_Vote_Obama_D: string (nullable = true)\n",
      " |-- ElectionReturns_G12_Cnty_Margin_Romney_R: string (nullable = true)\n",
      " |-- ElectionReturns_G12_Cnty_Percent_Romney_R: string (nullable = true)\n",
      " |-- ElectionReturns_G12_Cnty_Vote_Romney_R: string (nullable = true)\n",
      " |-- ElectionReturns_G12CountyTurnoutAllRegisteredVoters: string (nullable = true)\n",
      " |-- ElectionReturns_G12CountyTurnoutDemocrats: string (nullable = true)\n",
      " |-- ElectionReturns_G12CountyTurnoutIndependentsAllOthers: string (nullable = true)\n",
      " |-- ElectionReturns_G12CountyTurnoutRepublicans: string (nullable = true)\n",
      " |-- ElectionReturns_G12PrecinctTurnoutAllRegisteredVoters: string (nullable = true)\n",
      " |-- ElectionReturns_G12PrecinctTurnoutDemocrats: string (nullable = true)\n",
      " |-- ElectionReturns_G12PrecinctTurnoutIndependentsAllOthers: string (nullable = true)\n",
      " |-- ElectionReturns_G12PrecinctTurnoutRepublicans: string (nullable = true)\n",
      " |-- ElectionReturns_G14CountyTurnoutAllRegisteredVoters: string (nullable = true)\n",
      " |-- ElectionReturns_G14CountyTurnoutDemocrats: string (nullable = true)\n",
      " |-- ElectionReturns_G14CountyTurnoutIndependentsAllOthers: string (nullable = true)\n",
      " |-- ElectionReturns_G14CountyTurnoutRepublicans: string (nullable = true)\n",
      " |-- ElectionReturns_G14PrecinctTurnoutAllRegisteredVoters: string (nullable = true)\n",
      " |-- ElectionReturns_G14PrecinctTurnoutDemocrats: string (nullable = true)\n",
      " |-- ElectionReturns_G14PrecinctTurnoutIndependentsAllOthers: string (nullable = true)\n",
      " |-- ElectionReturns_G14PrecinctTurnoutRepublicans: string (nullable = true)\n",
      " |-- ElectionReturns_G16_Cnty_Margin_Clinton_D: string (nullable = true)\n",
      " |-- ElectionReturns_G16_Cnty_Percent_Clinton_D: string (nullable = true)\n",
      " |-- ElectionReturns_G16_Cnty_Vote_Clinton_D: string (nullable = true)\n",
      " |-- ElectionReturns_G16_Cnty_Margin_Trump_R: string (nullable = true)\n",
      " |-- ElectionReturns_G16_Cnty_Percent_Trump_R: string (nullable = true)\n",
      " |-- ElectionReturns_G16_Cnty_Vote_Trump_R: string (nullable = true)\n",
      " |-- ElectionReturns_G16CountyTurnoutAllRegisteredVoters: string (nullable = true)\n",
      " |-- ElectionReturns_G16CountyTurnoutDemocrats: string (nullable = true)\n",
      " |-- ElectionReturns_G16CountyTurnoutIndependentsAllOthers: string (nullable = true)\n",
      " |-- ElectionReturns_G16CountyTurnoutRepublicans: string (nullable = true)\n",
      " |-- ElectionReturns_G16PrecinctTurnoutAllRegisteredVoters: string (nullable = true)\n",
      " |-- ElectionReturns_G16PrecinctTurnoutDemocrats: string (nullable = true)\n",
      " |-- ElectionReturns_G16PrecinctTurnoutIndependentsAllOthers: string (nullable = true)\n",
      " |-- ElectionReturns_G16PrecinctTurnoutRepublicans: string (nullable = true)\n",
      " |-- ElectionReturns_G18CountyTurnoutAllRegisteredVoters: string (nullable = true)\n",
      " |-- ElectionReturns_G18CountyTurnoutDemocrats: string (nullable = true)\n",
      " |-- ElectionReturns_G18CountyTurnoutIndependentsAllOthers: string (nullable = true)\n",
      " |-- ElectionReturns_G18CountyTurnoutRepublicans: string (nullable = true)\n",
      " |-- ElectionReturns_G18PrecinctTurnoutAllRegisteredVoters: string (nullable = true)\n",
      " |-- ElectionReturns_G18PrecinctTurnoutDemocrats: string (nullable = true)\n",
      " |-- ElectionReturns_G18PrecinctTurnoutIndependentsAllOthers: string (nullable = true)\n",
      " |-- ElectionReturns_G18PrecinctTurnoutRepublicans: string (nullable = true)\n",
      " |-- ElectionReturns_P08_Cnty_Pct_Biden_D: string (nullable = true)\n",
      " |-- ElectionReturns_P08_Cnty_Pct_Clinton_D: string (nullable = true)\n",
      " |-- ElectionReturns_P08_Cnty_Pct_Dodd_D: string (nullable = true)\n",
      " |-- ElectionReturns_P08_Cnty_Pct_Edwards_D: string (nullable = true)\n",
      " |-- ElectionReturns_P08_Cnty_Pct_Gravel_D: string (nullable = true)\n",
      " |-- ElectionReturns_P08_Cnty_Pct_Kucinich_D: string (nullable = true)\n",
      " |-- ElectionReturns_P08_Cnty_Pct_Obama_D: string (nullable = true)\n",
      " |-- ElectionReturns_P08_Cnty_Pct_Richardson_D: string (nullable = true)\n",
      " |-- ElectionReturns_P08_Cnty_Vote_Biden_D: string (nullable = true)\n",
      " |-- ElectionReturns_P08_Cnty_Vote_Clinton_D: string (nullable = true)\n",
      " |-- ElectionReturns_P08_Cnty_Vote_Dodd_D: string (nullable = true)\n",
      " |-- ElectionReturns_P08_Cnty_Vote_Edwards_D: string (nullable = true)\n",
      " |-- ElectionReturns_P08_Cnty_Vote_Gravel_D: string (nullable = true)\n",
      " |-- ElectionReturns_P08_Cnty_Vote_Kucinich_D: string (nullable = true)\n",
      " |-- ElectionReturns_P08_Cnty_Vote_Obama_D: string (nullable = true)\n",
      " |-- ElectionReturns_P08_Cnty_Vote_Richardson_D: string (nullable = true)\n",
      " |-- ElectionReturns_P08_Cnty_Pct_Giuliani_R: string (nullable = true)\n",
      " |-- ElectionReturns_P08_Cnty_Pct_Huckabee_R: string (nullable = true)\n",
      " |-- ElectionReturns_P08_Cnty_Pct_Hunter_R: string (nullable = true)\n",
      " |-- ElectionReturns_P08_Cnty_Pct_Keyes_R: string (nullable = true)\n",
      " |-- ElectionReturns_P08_Cnty_Pct_McCain_R: string (nullable = true)\n",
      " |-- ElectionReturns_P08_Cnty_Pct_Paul_R: string (nullable = true)\n",
      " |-- ElectionReturns_P08_Cnty_Pct_Romney_R: string (nullable = true)\n",
      " |-- ElectionReturns_P08_Cnty_Pct_Thompson_R: string (nullable = true)\n",
      " |-- ElectionReturns_P08_Cnty_Vote_Giuliani_R: string (nullable = true)\n",
      " |-- ElectionReturns_P08_Cnty_Vote_Huckabee_R: string (nullable = true)\n",
      " |-- ElectionReturns_P08_Cnty_Vote_Hunter_R: string (nullable = true)\n",
      " |-- ElectionReturns_P08_Cnty_Vote_Keyes_R: string (nullable = true)\n",
      " |-- ElectionReturns_P08_Cnty_Vote_McCain_R: string (nullable = true)\n",
      " |-- ElectionReturns_P08_Cnty_Vote_Paul_R: string (nullable = true)\n",
      " |-- ElectionReturns_P08_Cnty_Vote_Romney_R: string (nullable = true)\n",
      " |-- ElectionReturns_P08_Cnty_Vote_Thompson_R: string (nullable = true)\n",
      " |-- ElectionReturns_P08CountyTurnoutAllRegisteredVoters: string (nullable = true)\n",
      " |-- ElectionReturns_P08CountyTurnoutDemocrats: string (nullable = true)\n",
      " |-- ElectionReturns_P08CountyTurnoutRepublicans: string (nullable = true)\n",
      " |-- ElectionReturns_P08PrecinctTurnoutAllRegisteredVoters: string (nullable = true)\n",
      " |-- ElectionReturns_P08PrecinctTurnoutDemocrats: string (nullable = true)\n",
      " |-- ElectionReturns_P08PrecinctTurnoutRepublicans: string (nullable = true)\n",
      " |-- ElectionReturns_P10CountyTurnoutAllRegisteredVoters: string (nullable = true)\n",
      " |-- ElectionReturns_P10CountyTurnoutDemocrats: string (nullable = true)\n",
      " |-- ElectionReturns_P10CountyTurnoutRepublicans: string (nullable = true)\n",
      " |-- ElectionReturns_P10PrecinctTurnoutAllRegisteredVoters: string (nullable = true)\n",
      " |-- ElectionReturns_P10PrecinctTurnoutDemocrats: string (nullable = true)\n",
      " |-- ElectionReturns_P10PrecinctTurnoutRepublicans: string (nullable = true)\n",
      " |-- ElectionReturns_P12_Cnty_Pct_Bachman_R: string (nullable = true)\n",
      " |-- ElectionReturns_P12_Cnty_Pct_Gingrich_R: string (nullable = true)\n",
      " |-- ElectionReturns_P12_Cnty_Pct_Huntsman_R: string (nullable = true)\n",
      " |-- ElectionReturns_P12_Cnty_Pct_Paul_R: string (nullable = true)\n",
      " |-- ElectionReturns_P12_Cnty_Pct_Perry_R: string (nullable = true)\n",
      " |-- ElectionReturns_P12_Cnty_Pct_Romney_R: string (nullable = true)\n",
      " |-- ElectionReturns_P12_Cnty_Pct_Santorum_R: string (nullable = true)\n",
      " |-- ElectionReturns_P12_Cnty_Vote_Bachman_R: string (nullable = true)\n",
      " |-- ElectionReturns_P12_Cnty_Vote_Gingrich_R: string (nullable = true)\n",
      " |-- ElectionReturns_P12_Cnty_Vote_Huntsman_R: string (nullable = true)\n",
      " |-- ElectionReturns_P12_Cnty_Vote_Paul_R: string (nullable = true)\n",
      " |-- ElectionReturns_P12_Cnty_Vote_Perry_R: string (nullable = true)\n",
      " |-- ElectionReturns_P12_Cnty_Vote_Romney_R: string (nullable = true)\n",
      " |-- ElectionReturns_P12_Cnty_Vote_Santorum_R: string (nullable = true)\n",
      " |-- ElectionReturns_P12CountyTurnoutAllRegisteredVoters: string (nullable = true)\n",
      " |-- ElectionReturns_P12CountyTurnoutDemocrats: string (nullable = true)\n",
      " |-- ElectionReturns_P12CountyTurnoutRepublicans: string (nullable = true)\n",
      " |-- ElectionReturns_P12PrecinctTurnoutAllRegisteredVoters: string (nullable = true)\n",
      " |-- ElectionReturns_P12PrecinctTurnoutDemocrats: string (nullable = true)\n",
      " |-- ElectionReturns_P12PrecinctTurnoutRepublicans: string (nullable = true)\n",
      " |-- ElectionReturns_P14CountyTurnoutAllRegisteredVoters: string (nullable = true)\n",
      " |-- ElectionReturns_P14CountyTurnoutDemocrats: string (nullable = true)\n",
      " |-- ElectionReturns_P14CountyTurnoutRepublicans: string (nullable = true)\n",
      " |-- ElectionReturns_P14PrecinctTurnoutAllRegisteredVoters: string (nullable = true)\n",
      " |-- ElectionReturns_P14PrecinctTurnoutDemocrats: string (nullable = true)\n",
      " |-- ElectionReturns_P14PrecinctTurnoutRepublicans: string (nullable = true)\n",
      " |-- ElectionReturns_P16_Cnty_Pct_Bush_R: string (nullable = true)\n",
      " |-- ElectionReturns_P16_Cnty_Pct_Carson_R: string (nullable = true)\n",
      " |-- ElectionReturns_P16_Cnty_Pct_Christie_R: string (nullable = true)\n",
      " |-- ElectionReturns_P16_Cnty_Pct_Cruz_R: string (nullable = true)\n",
      " |-- ElectionReturns_P16_Cnty_Pct_Fiorina_R: string (nullable = true)\n",
      " |-- ElectionReturns_P16_Cnty_Pct_Kasich_R: string (nullable = true)\n",
      " |-- ElectionReturns_P16_Cnty_Pct_Rubio_R: string (nullable = true)\n",
      " |-- ElectionReturns_P16_Cnty_Pct_Trump_R: string (nullable = true)\n",
      " |-- ElectionReturns_P16_Cnty_Vote_Bush_R: string (nullable = true)\n",
      " |-- ElectionReturns_P16_Cnty_Vote_Carson_R: string (nullable = true)\n",
      " |-- ElectionReturns_P16_Cnty_Vote_Christie_R: string (nullable = true)\n",
      " |-- ElectionReturns_P16_Cnty_Vote_Cruz_R: string (nullable = true)\n",
      " |-- ElectionReturns_P16_Cnty_Vote_Fiorina_R: string (nullable = true)\n",
      " |-- ElectionReturns_P16_Cnty_Vote_Kasich_R: string (nullable = true)\n",
      " |-- ElectionReturns_P16_Cnty_Vote_Rubio_R: string (nullable = true)\n",
      " |-- ElectionReturns_P16_Cnty_Vote_Trump_R: string (nullable = true)\n",
      " |-- ElectionReturns_P16_Cnty_Pct_Clinton_D: string (nullable = true)\n",
      " |-- ElectionReturns_P16_Cnty_Pct_Sanders_D: string (nullable = true)\n",
      " |-- ElectionReturns_P16_Cnty_Vote_Clinton_D: string (nullable = true)\n",
      " |-- ElectionReturns_P16_Cnty_Vote_Sanders_D: string (nullable = true)\n",
      " |-- ElectionReturns_P16CountyTurnoutAllRegisteredVoters: string (nullable = true)\n",
      " |-- ElectionReturns_P16CountyTurnoutDemocrats: string (nullable = true)\n",
      " |-- ElectionReturns_P16CountyTurnoutRepublicans: string (nullable = true)\n",
      " |-- ElectionReturns_P16PrecinctTurnoutAllRegisteredVoters: string (nullable = true)\n",
      " |-- ElectionReturns_P16PrecinctTurnoutDemocrats: string (nullable = true)\n",
      " |-- ElectionReturns_P16PrecinctTurnoutRepublicans: string (nullable = true)\n",
      " |-- ElectionReturns_P18CountyTurnoutAllRegisteredVoters: string (nullable = true)\n",
      " |-- ElectionReturns_P18CountyTurnoutDemocrats: string (nullable = true)\n",
      " |-- ElectionReturns_P18CountyTurnoutRepublicans: string (nullable = true)\n",
      " |-- ElectionReturns_P18PrecinctTurnoutAllRegisteredVoters: string (nullable = true)\n",
      " |-- ElectionReturns_P18PrecinctTurnoutDemocrats: string (nullable = true)\n",
      " |-- ElectionReturns_P18PrecinctTurnoutRepublicans: string (nullable = true)\n",
      " |-- FECDonors_AvgDonation: string (nullable = true)\n",
      " |-- FECDonors_AvgDonation_Range: string (nullable = true)\n",
      " |-- FECDonors_LastDonationDate: string (nullable = true)\n",
      " |-- FECDonors_NumberOfDonations: string (nullable = true)\n",
      " |-- FECDonors_PrimaryRecipientOfContributions: string (nullable = true)\n",
      " |-- FECDonors_TotalDonationsAmount: string (nullable = true)\n",
      " |-- FECDonors_TotalDonationsAmt_Range: string (nullable = true)\n",
      " |-- Voters_VotingPerformanceEvenYearGeneral: string (nullable = true)\n",
      " |-- Voters_VotingPerformanceEvenYearPrimary: string (nullable = true)\n",
      " |-- Voters_VotingPerformanceEvenYearGeneralAndPrimary: string (nullable = true)\n",
      " |-- Voters_VotingPerformanceMinorElection: string (nullable = true)\n",
      " |-- General_2022: string (nullable = true)\n",
      " |-- Primary_2022: string (nullable = true)\n",
      " |-- OtherElection_2022: string (nullable = true)\n",
      " |-- AnyElection_2021: string (nullable = true)\n",
      " |-- General_2020: string (nullable = true)\n",
      " |-- Primary_2020: string (nullable = true)\n",
      " |-- PresidentialPrimary_2020: string (nullable = true)\n",
      " |-- OtherElection_2020: string (nullable = true)\n",
      " |-- AnyElection_2019: string (nullable = true)\n",
      " |-- General_2018: string (nullable = true)\n",
      " |-- Primary_2018: string (nullable = true)\n",
      " |-- OtherElection_2018: string (nullable = true)\n",
      " |-- AnyElection_2017: string (nullable = true)\n",
      " |-- General_2016: string (nullable = true)\n",
      " |-- Primary_2016: string (nullable = true)\n",
      " |-- PresidentialPrimary_2016: string (nullable = true)\n",
      " |-- OtherElection_2016: string (nullable = true)\n",
      " |-- AnyElection_2015: string (nullable = true)\n",
      " |-- General_2014: string (nullable = true)\n",
      " |-- Primary_2014: string (nullable = true)\n",
      " |-- OtherElection_2014: string (nullable = true)\n",
      " |-- AnyElection_2013: string (nullable = true)\n",
      " |-- General_2012: string (nullable = true)\n",
      " |-- Primary_2012: string (nullable = true)\n",
      " |-- PresidentialPrimary_2012: string (nullable = true)\n",
      " |-- OtherElection_2012: string (nullable = true)\n",
      " |-- AnyElection_2011: string (nullable = true)\n",
      " |-- General_2010: string (nullable = true)\n",
      " |-- Primary_2010: string (nullable = true)\n",
      " |-- OtherElection_2010: string (nullable = true)\n",
      " |-- AnyElection_2009: string (nullable = true)\n",
      " |-- General_2008: string (nullable = true)\n",
      " |-- Primary_2008: string (nullable = true)\n",
      " |-- PresidentialPrimary_2008: string (nullable = true)\n",
      " |-- OtherElection_2008: string (nullable = true)\n",
      " |-- AnyElection_2007: string (nullable = true)\n",
      " |-- General_2006: string (nullable = true)\n",
      " |-- Primary_2006: string (nullable = true)\n",
      " |-- OtherElection_2006: string (nullable = true)\n",
      " |-- AnyElection_2005: string (nullable = true)\n",
      " |-- General_2004: string (nullable = true)\n",
      " |-- Primary_2004: string (nullable = true)\n",
      " |-- PresidentialPrimary_2004: string (nullable = true)\n",
      " |-- OtherElection_2004: string (nullable = true)\n",
      " |-- AnyElection_2003: string (nullable = true)\n",
      " |-- General_2002: string (nullable = true)\n",
      " |-- Primary_2002: string (nullable = true)\n",
      " |-- OtherElection_2002: string (nullable = true)\n",
      " |-- AnyElection_2001: string (nullable = true)\n",
      " |-- General_2000: string (nullable = true)\n",
      " |-- Primary_2000: string (nullable = true)\n",
      " |-- PresidentialPrimary_2000: string (nullable = true)\n",
      " |-- OtherElection_2000: string (nullable = true)\n",
      " |-- PRI_BLT_2022: string (nullable = true)\n",
      " |-- PRI_BLT_2021: string (nullable = true)\n",
      " |-- PRI_BLT_2020: string (nullable = true)\n",
      " |-- PRI_BLT_2019: string (nullable = true)\n",
      " |-- PRI_BLT_2018: string (nullable = true)\n",
      " |-- PRI_BLT_2017: string (nullable = true)\n",
      " |-- PRI_BLT_2016: string (nullable = true)\n",
      " |-- PRI_BLT_2015: string (nullable = true)\n",
      " |-- PRI_BLT_2014: string (nullable = true)\n",
      " |-- PRI_BLT_2013: string (nullable = true)\n",
      " |-- PRI_BLT_2012: string (nullable = true)\n",
      " |-- PRI_BLT_2011: string (nullable = true)\n",
      " |-- PRI_BLT_2010: string (nullable = true)\n",
      " |-- PRI_BLT_2009: string (nullable = true)\n",
      " |-- PRI_BLT_2008: string (nullable = true)\n",
      " |-- PRI_BLT_2007: string (nullable = true)\n",
      " |-- PRI_BLT_2006: string (nullable = true)\n",
      " |-- PRI_BLT_2005: string (nullable = true)\n",
      " |-- PRI_BLT_2004: string (nullable = true)\n",
      " |-- PRI_BLT_2003: string (nullable = true)\n",
      " |-- PRI_BLT_2002: string (nullable = true)\n",
      " |-- PRI_BLT_2001: string (nullable = true)\n",
      " |-- PRI_BLT_2000: string (nullable = true)\n",
      "\n"
     ]
    }
   ],
   "source": [
    "mi_df.printSchema()"
   ]
  },
  {
   "cell_type": "code",
   "execution_count": null,
   "id": "fc034a9b-4c2d-49ce-99cb-e6513dbc120e",
   "metadata": {},
   "outputs": [],
   "source": []
  }
 ],
 "metadata": {
  "kernelspec": {
   "display_name": "PySpark",
   "language": "python",
   "name": "pyspark"
  },
  "language_info": {
   "codemirror_mode": {
    "name": "ipython",
    "version": 3
   },
   "file_extension": ".py",
   "mimetype": "text/x-python",
   "name": "python",
   "nbconvert_exporter": "python",
   "pygments_lexer": "ipython3",
   "version": "3.8.15"
  }
 },
 "nbformat": 4,
 "nbformat_minor": 5
}